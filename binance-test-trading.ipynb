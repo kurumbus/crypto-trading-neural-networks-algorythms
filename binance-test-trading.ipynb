{
 "cells": [
  {
   "cell_type": "code",
   "id": "initial_id",
   "metadata": {
    "collapsed": true,
    "ExecuteTime": {
     "end_time": "2024-09-04T01:01:36.680901Z",
     "start_time": "2024-09-04T01:01:35.114499Z"
    }
   },
   "source": [
    "from dotenv import load_dotenv, dotenv_values\n",
    "from binance.client import Client\n",
    "import pandas as pd"
   ],
   "outputs": [],
   "execution_count": 1
  },
  {
   "metadata": {
    "ExecuteTime": {
     "end_time": "2024-09-04T01:01:37.174353Z",
     "start_time": "2024-09-04T01:01:36.705990Z"
    }
   },
   "cell_type": "code",
   "source": [
    "config = dotenv_values(\".env\")\n",
    "client = Client(api_key=config['BINANCE_TEST_KEY'], api_secret=config['BINANCE_TEST_SECRET'], testnet=True)"
   ],
   "id": "f6519643affb7d1c",
   "outputs": [],
   "execution_count": 2
  },
  {
   "metadata": {
    "ExecuteTime": {
     "end_time": "2024-09-04T01:01:37.991075Z",
     "start_time": "2024-09-04T01:01:37.983627Z"
    }
   },
   "cell_type": "code",
   "source": "client",
   "id": "743648a2568cdf7a",
   "outputs": [
    {
     "data": {
      "text/plain": [
       "<binance.client.Client at 0x1cc5dd53f50>"
      ]
     },
     "execution_count": 3,
     "metadata": {},
     "output_type": "execute_result"
    }
   ],
   "execution_count": 3
  },
  {
   "metadata": {
    "ExecuteTime": {
     "end_time": "2024-09-04T01:02:47.003229Z",
     "start_time": "2024-09-04T01:02:46.834275Z"
    }
   },
   "cell_type": "code",
   "source": "account = client.get_account()",
   "id": "dbb7559fde12b3d8",
   "outputs": [],
   "execution_count": 5
  },
  {
   "metadata": {
    "ExecuteTime": {
     "end_time": "2024-09-04T01:02:54.761831Z",
     "start_time": "2024-09-04T01:02:54.752093Z"
    }
   },
   "cell_type": "code",
   "source": [
    "df = pd.DataFrame(account['balances'])\n",
    "df"
   ],
   "id": "45f66c57d2c696aa",
   "outputs": [
    {
     "data": {
      "text/plain": [
       "      asset            free      locked\n",
       "0       ETH      1.00000000  0.00000000\n",
       "1       BTC      1.00000000  0.00000000\n",
       "2       LTC      8.00000000  0.00000000\n",
       "3       BNB      1.00000000  0.00000000\n",
       "4      USDT  10000.00000000  0.00000000\n",
       "..      ...             ...         ...\n",
       "388   LISTA   1487.00000000  0.00000000\n",
       "389     ZRO    153.00000000  0.00000000\n",
       "390       G  12602.00000000  0.00000000\n",
       "391  BANANA     14.00000000  0.00000000\n",
       "392  RENDER    104.00000000  0.00000000\n",
       "\n",
       "[393 rows x 3 columns]"
      ],
      "text/html": [
       "<div>\n",
       "<style scoped>\n",
       "    .dataframe tbody tr th:only-of-type {\n",
       "        vertical-align: middle;\n",
       "    }\n",
       "\n",
       "    .dataframe tbody tr th {\n",
       "        vertical-align: top;\n",
       "    }\n",
       "\n",
       "    .dataframe thead th {\n",
       "        text-align: right;\n",
       "    }\n",
       "</style>\n",
       "<table border=\"1\" class=\"dataframe\">\n",
       "  <thead>\n",
       "    <tr style=\"text-align: right;\">\n",
       "      <th></th>\n",
       "      <th>asset</th>\n",
       "      <th>free</th>\n",
       "      <th>locked</th>\n",
       "    </tr>\n",
       "  </thead>\n",
       "  <tbody>\n",
       "    <tr>\n",
       "      <th>0</th>\n",
       "      <td>ETH</td>\n",
       "      <td>1.00000000</td>\n",
       "      <td>0.00000000</td>\n",
       "    </tr>\n",
       "    <tr>\n",
       "      <th>1</th>\n",
       "      <td>BTC</td>\n",
       "      <td>1.00000000</td>\n",
       "      <td>0.00000000</td>\n",
       "    </tr>\n",
       "    <tr>\n",
       "      <th>2</th>\n",
       "      <td>LTC</td>\n",
       "      <td>8.00000000</td>\n",
       "      <td>0.00000000</td>\n",
       "    </tr>\n",
       "    <tr>\n",
       "      <th>3</th>\n",
       "      <td>BNB</td>\n",
       "      <td>1.00000000</td>\n",
       "      <td>0.00000000</td>\n",
       "    </tr>\n",
       "    <tr>\n",
       "      <th>4</th>\n",
       "      <td>USDT</td>\n",
       "      <td>10000.00000000</td>\n",
       "      <td>0.00000000</td>\n",
       "    </tr>\n",
       "    <tr>\n",
       "      <th>...</th>\n",
       "      <td>...</td>\n",
       "      <td>...</td>\n",
       "      <td>...</td>\n",
       "    </tr>\n",
       "    <tr>\n",
       "      <th>388</th>\n",
       "      <td>LISTA</td>\n",
       "      <td>1487.00000000</td>\n",
       "      <td>0.00000000</td>\n",
       "    </tr>\n",
       "    <tr>\n",
       "      <th>389</th>\n",
       "      <td>ZRO</td>\n",
       "      <td>153.00000000</td>\n",
       "      <td>0.00000000</td>\n",
       "    </tr>\n",
       "    <tr>\n",
       "      <th>390</th>\n",
       "      <td>G</td>\n",
       "      <td>12602.00000000</td>\n",
       "      <td>0.00000000</td>\n",
       "    </tr>\n",
       "    <tr>\n",
       "      <th>391</th>\n",
       "      <td>BANANA</td>\n",
       "      <td>14.00000000</td>\n",
       "      <td>0.00000000</td>\n",
       "    </tr>\n",
       "    <tr>\n",
       "      <th>392</th>\n",
       "      <td>RENDER</td>\n",
       "      <td>104.00000000</td>\n",
       "      <td>0.00000000</td>\n",
       "    </tr>\n",
       "  </tbody>\n",
       "</table>\n",
       "<p>393 rows × 3 columns</p>\n",
       "</div>"
      ]
     },
     "execution_count": 8,
     "metadata": {},
     "output_type": "execute_result"
    }
   ],
   "execution_count": 8
  },
  {
   "metadata": {
    "ExecuteTime": {
     "end_time": "2024-09-04T01:03:32.309104Z",
     "start_time": "2024-09-04T01:03:32.288969Z"
    }
   },
   "cell_type": "code",
   "source": [
    "df.free = pd.to_numeric(df.free, errors='coerce')\n",
    "df.locked = pd.to_numeric(df.locked, errors='coerce')\n",
    "df.info()"
   ],
   "id": "5e2e7af103748bd9",
   "outputs": [
    {
     "name": "stdout",
     "output_type": "stream",
     "text": [
      "<class 'pandas.core.frame.DataFrame'>\n",
      "RangeIndex: 393 entries, 0 to 392\n",
      "Data columns (total 3 columns):\n",
      " #   Column  Non-Null Count  Dtype  \n",
      "---  ------  --------------  -----  \n",
      " 0   asset   393 non-null    object \n",
      " 1   free    393 non-null    float64\n",
      " 2   locked  393 non-null    float64\n",
      "dtypes: float64(2), object(1)\n",
      "memory usage: 9.3+ KB\n"
     ]
    }
   ],
   "execution_count": 11
  },
  {
   "metadata": {
    "ExecuteTime": {
     "end_time": "2024-09-04T01:03:45.410735Z",
     "start_time": "2024-09-04T01:03:45.163846Z"
    }
   },
   "cell_type": "code",
   "source": "client.get_asset_balance('BTC')",
   "id": "e446285d03868941",
   "outputs": [
    {
     "data": {
      "text/plain": [
       "{'asset': 'BTC', 'free': '1.00000000', 'locked': '0.00000000'}"
      ]
     },
     "execution_count": 12,
     "metadata": {},
     "output_type": "execute_result"
    }
   ],
   "execution_count": 12
  },
  {
   "metadata": {
    "ExecuteTime": {
     "end_time": "2024-09-04T01:03:52.371903Z",
     "start_time": "2024-09-04T01:03:52.157971Z"
    }
   },
   "cell_type": "code",
   "source": "client.get_asset_balance('ETH')",
   "id": "b43ad32bb808586d",
   "outputs": [
    {
     "data": {
      "text/plain": [
       "{'asset': 'ETH', 'free': '1.00000000', 'locked': '0.00000000'}"
      ]
     },
     "execution_count": 13,
     "metadata": {},
     "output_type": "execute_result"
    }
   ],
   "execution_count": 13
  },
  {
   "metadata": {
    "ExecuteTime": {
     "end_time": "2024-09-04T01:12:29.216586Z",
     "start_time": "2024-09-04T01:12:28.930969Z"
    }
   },
   "cell_type": "code",
   "source": [
    "timestamp = client._get_earliest_valid_timestamp(symbol='BTCUSDT', interval='1d')\n",
    "timestamp"
   ],
   "id": "45e0e3ab92192014",
   "outputs": [
    {
     "ename": "BinanceAPIException",
     "evalue": "APIError(code=-1121): Invalid symbol.",
     "output_type": "error",
     "traceback": [
      "\u001B[1;31m---------------------------------------------------------------------------\u001B[0m",
      "\u001B[1;31mBinanceAPIException\u001B[0m                       Traceback (most recent call last)",
      "Cell \u001B[1;32mIn[21], line 1\u001B[0m\n\u001B[1;32m----> 1\u001B[0m timestamp \u001B[38;5;241m=\u001B[39m \u001B[43mclient\u001B[49m\u001B[38;5;241;43m.\u001B[39;49m\u001B[43m_get_earliest_valid_timestamp\u001B[49m\u001B[43m(\u001B[49m\u001B[43msymbol\u001B[49m\u001B[38;5;241;43m=\u001B[39;49m\u001B[38;5;124;43m'\u001B[39;49m\u001B[38;5;124;43mBTCUSD\u001B[39;49m\u001B[38;5;124;43m'\u001B[39;49m\u001B[43m,\u001B[49m\u001B[43m \u001B[49m\u001B[43minterval\u001B[49m\u001B[38;5;241;43m=\u001B[39;49m\u001B[38;5;124;43m'\u001B[39;49m\u001B[38;5;124;43m1d\u001B[39;49m\u001B[38;5;124;43m'\u001B[39;49m\u001B[43m)\u001B[49m\n\u001B[0;32m      2\u001B[0m timestamp\n",
      "File \u001B[1;32mC:\\code\\crypto-trading-neural-networks-algorythms\\.venv\\Lib\\site-packages\\binance\\client.py:955\u001B[0m, in \u001B[0;36mClient._get_earliest_valid_timestamp\u001B[1;34m(self, symbol, interval, klines_type)\u001B[0m\n\u001B[0;32m    942\u001B[0m \u001B[38;5;28;01mdef\u001B[39;00m \u001B[38;5;21m_get_earliest_valid_timestamp\u001B[39m(\u001B[38;5;28mself\u001B[39m, symbol, interval, klines_type: HistoricalKlinesType \u001B[38;5;241m=\u001B[39m HistoricalKlinesType\u001B[38;5;241m.\u001B[39mSPOT):\n\u001B[0;32m    943\u001B[0m \u001B[38;5;250m    \u001B[39m\u001B[38;5;124;03m\"\"\"Get the earliest valid open timestamp from Binance\u001B[39;00m\n\u001B[0;32m    944\u001B[0m \n\u001B[0;32m    945\u001B[0m \u001B[38;5;124;03m    :param symbol: Name of symbol pair e.g. BNBBTC\u001B[39;00m\n\u001B[1;32m   (...)\u001B[0m\n\u001B[0;32m    953\u001B[0m \n\u001B[0;32m    954\u001B[0m \u001B[38;5;124;03m    \"\"\"\u001B[39;00m\n\u001B[1;32m--> 955\u001B[0m     kline \u001B[38;5;241m=\u001B[39m \u001B[38;5;28;43mself\u001B[39;49m\u001B[38;5;241;43m.\u001B[39;49m\u001B[43m_klines\u001B[49m\u001B[43m(\u001B[49m\n\u001B[0;32m    956\u001B[0m \u001B[43m        \u001B[49m\u001B[43mklines_type\u001B[49m\u001B[38;5;241;43m=\u001B[39;49m\u001B[43mklines_type\u001B[49m\u001B[43m,\u001B[49m\n\u001B[0;32m    957\u001B[0m \u001B[43m        \u001B[49m\u001B[43msymbol\u001B[49m\u001B[38;5;241;43m=\u001B[39;49m\u001B[43msymbol\u001B[49m\u001B[43m,\u001B[49m\n\u001B[0;32m    958\u001B[0m \u001B[43m        \u001B[49m\u001B[43minterval\u001B[49m\u001B[38;5;241;43m=\u001B[39;49m\u001B[43minterval\u001B[49m\u001B[43m,\u001B[49m\n\u001B[0;32m    959\u001B[0m \u001B[43m        \u001B[49m\u001B[43mlimit\u001B[49m\u001B[38;5;241;43m=\u001B[39;49m\u001B[38;5;241;43m1\u001B[39;49m\u001B[43m,\u001B[49m\n\u001B[0;32m    960\u001B[0m \u001B[43m        \u001B[49m\u001B[43mstartTime\u001B[49m\u001B[38;5;241;43m=\u001B[39;49m\u001B[38;5;241;43m0\u001B[39;49m\u001B[43m,\u001B[49m\n\u001B[0;32m    961\u001B[0m \u001B[43m        \u001B[49m\u001B[43mendTime\u001B[49m\u001B[38;5;241;43m=\u001B[39;49m\u001B[38;5;28;43mint\u001B[39;49m\u001B[43m(\u001B[49m\u001B[43mtime\u001B[49m\u001B[38;5;241;43m.\u001B[39;49m\u001B[43mtime\u001B[49m\u001B[43m(\u001B[49m\u001B[43m)\u001B[49m\u001B[43m \u001B[49m\u001B[38;5;241;43m*\u001B[39;49m\u001B[43m \u001B[49m\u001B[38;5;241;43m1000\u001B[39;49m\u001B[43m)\u001B[49m\n\u001B[0;32m    962\u001B[0m \u001B[43m    \u001B[49m\u001B[43m)\u001B[49m\n\u001B[0;32m    963\u001B[0m     \u001B[38;5;28;01mreturn\u001B[39;00m kline[\u001B[38;5;241m0\u001B[39m][\u001B[38;5;241m0\u001B[39m]\n",
      "File \u001B[1;32mC:\\code\\crypto-trading-neural-networks-algorythms\\.venv\\Lib\\site-packages\\binance\\client.py:934\u001B[0m, in \u001B[0;36mClient._klines\u001B[1;34m(self, klines_type, **params)\u001B[0m\n\u001B[0;32m    931\u001B[0m     \u001B[38;5;28;01mdel\u001B[39;00m params[\u001B[38;5;124m'\u001B[39m\u001B[38;5;124mendTime\u001B[39m\u001B[38;5;124m'\u001B[39m]\n\u001B[0;32m    933\u001B[0m \u001B[38;5;28;01mif\u001B[39;00m HistoricalKlinesType\u001B[38;5;241m.\u001B[39mSPOT \u001B[38;5;241m==\u001B[39m klines_type:\n\u001B[1;32m--> 934\u001B[0m     \u001B[38;5;28;01mreturn\u001B[39;00m \u001B[38;5;28;43mself\u001B[39;49m\u001B[38;5;241;43m.\u001B[39;49m\u001B[43mget_klines\u001B[49m\u001B[43m(\u001B[49m\u001B[38;5;241;43m*\u001B[39;49m\u001B[38;5;241;43m*\u001B[39;49m\u001B[43mparams\u001B[49m\u001B[43m)\u001B[49m\n\u001B[0;32m    935\u001B[0m \u001B[38;5;28;01melif\u001B[39;00m HistoricalKlinesType\u001B[38;5;241m.\u001B[39mFUTURES \u001B[38;5;241m==\u001B[39m klines_type:\n\u001B[0;32m    936\u001B[0m     \u001B[38;5;28;01mreturn\u001B[39;00m \u001B[38;5;28mself\u001B[39m\u001B[38;5;241m.\u001B[39mfutures_klines(\u001B[38;5;241m*\u001B[39m\u001B[38;5;241m*\u001B[39mparams)\n",
      "File \u001B[1;32mC:\\code\\crypto-trading-neural-networks-algorythms\\.venv\\Lib\\site-packages\\binance\\client.py:919\u001B[0m, in \u001B[0;36mClient.get_klines\u001B[1;34m(self, **params)\u001B[0m\n\u001B[0;32m    879\u001B[0m \u001B[38;5;28;01mdef\u001B[39;00m \u001B[38;5;21mget_klines\u001B[39m(\u001B[38;5;28mself\u001B[39m, \u001B[38;5;241m*\u001B[39m\u001B[38;5;241m*\u001B[39mparams) \u001B[38;5;241m-\u001B[39m\u001B[38;5;241m>\u001B[39m Dict:\n\u001B[0;32m    880\u001B[0m \u001B[38;5;250m    \u001B[39m\u001B[38;5;124;03m\"\"\"Kline/candlestick bars for a symbol. Klines are uniquely identified by their open time.\u001B[39;00m\n\u001B[0;32m    881\u001B[0m \n\u001B[0;32m    882\u001B[0m \u001B[38;5;124;03m    https://binance-docs.github.io/apidocs/spot/en/#kline-candlestick-data\u001B[39;00m\n\u001B[1;32m   (...)\u001B[0m\n\u001B[0;32m    917\u001B[0m \n\u001B[0;32m    918\u001B[0m \u001B[38;5;124;03m    \"\"\"\u001B[39;00m\n\u001B[1;32m--> 919\u001B[0m     \u001B[38;5;28;01mreturn\u001B[39;00m \u001B[38;5;28;43mself\u001B[39;49m\u001B[38;5;241;43m.\u001B[39;49m\u001B[43m_get\u001B[49m\u001B[43m(\u001B[49m\u001B[38;5;124;43m'\u001B[39;49m\u001B[38;5;124;43mklines\u001B[39;49m\u001B[38;5;124;43m'\u001B[39;49m\u001B[43m,\u001B[49m\u001B[43m \u001B[49m\u001B[43mdata\u001B[49m\u001B[38;5;241;43m=\u001B[39;49m\u001B[43mparams\u001B[49m\u001B[43m,\u001B[49m\u001B[43m \u001B[49m\u001B[43mversion\u001B[49m\u001B[38;5;241;43m=\u001B[39;49m\u001B[38;5;28;43mself\u001B[39;49m\u001B[38;5;241;43m.\u001B[39;49m\u001B[43mPRIVATE_API_VERSION\u001B[49m\u001B[43m)\u001B[49m\n",
      "File \u001B[1;32mC:\\code\\crypto-trading-neural-networks-algorythms\\.venv\\Lib\\site-packages\\binance\\client.py:415\u001B[0m, in \u001B[0;36mClient._get\u001B[1;34m(self, path, signed, version, **kwargs)\u001B[0m\n\u001B[0;32m    414\u001B[0m \u001B[38;5;28;01mdef\u001B[39;00m \u001B[38;5;21m_get\u001B[39m(\u001B[38;5;28mself\u001B[39m, path, signed\u001B[38;5;241m=\u001B[39m\u001B[38;5;28;01mFalse\u001B[39;00m, version\u001B[38;5;241m=\u001B[39mBaseClient\u001B[38;5;241m.\u001B[39mPUBLIC_API_VERSION, \u001B[38;5;241m*\u001B[39m\u001B[38;5;241m*\u001B[39mkwargs):\n\u001B[1;32m--> 415\u001B[0m     \u001B[38;5;28;01mreturn\u001B[39;00m \u001B[38;5;28;43mself\u001B[39;49m\u001B[38;5;241;43m.\u001B[39;49m\u001B[43m_request_api\u001B[49m\u001B[43m(\u001B[49m\u001B[38;5;124;43m'\u001B[39;49m\u001B[38;5;124;43mget\u001B[39;49m\u001B[38;5;124;43m'\u001B[39;49m\u001B[43m,\u001B[49m\u001B[43m \u001B[49m\u001B[43mpath\u001B[49m\u001B[43m,\u001B[49m\u001B[43m \u001B[49m\u001B[43msigned\u001B[49m\u001B[43m,\u001B[49m\u001B[43m \u001B[49m\u001B[43mversion\u001B[49m\u001B[43m,\u001B[49m\u001B[43m \u001B[49m\u001B[38;5;241;43m*\u001B[39;49m\u001B[38;5;241;43m*\u001B[39;49m\u001B[43mkwargs\u001B[49m\u001B[43m)\u001B[49m\n",
      "File \u001B[1;32mC:\\code\\crypto-trading-neural-networks-algorythms\\.venv\\Lib\\site-packages\\binance\\client.py:378\u001B[0m, in \u001B[0;36mClient._request_api\u001B[1;34m(self, method, path, signed, version, **kwargs)\u001B[0m\n\u001B[0;32m    374\u001B[0m \u001B[38;5;28;01mdef\u001B[39;00m \u001B[38;5;21m_request_api\u001B[39m(\n\u001B[0;32m    375\u001B[0m     \u001B[38;5;28mself\u001B[39m, method, path: \u001B[38;5;28mstr\u001B[39m, signed: \u001B[38;5;28mbool\u001B[39m \u001B[38;5;241m=\u001B[39m \u001B[38;5;28;01mFalse\u001B[39;00m, version\u001B[38;5;241m=\u001B[39mBaseClient\u001B[38;5;241m.\u001B[39mPUBLIC_API_VERSION, \u001B[38;5;241m*\u001B[39m\u001B[38;5;241m*\u001B[39mkwargs\n\u001B[0;32m    376\u001B[0m ):\n\u001B[0;32m    377\u001B[0m     uri \u001B[38;5;241m=\u001B[39m \u001B[38;5;28mself\u001B[39m\u001B[38;5;241m.\u001B[39m_create_api_uri(path, signed, version)\n\u001B[1;32m--> 378\u001B[0m     \u001B[38;5;28;01mreturn\u001B[39;00m \u001B[38;5;28;43mself\u001B[39;49m\u001B[38;5;241;43m.\u001B[39;49m\u001B[43m_request\u001B[49m\u001B[43m(\u001B[49m\u001B[43mmethod\u001B[49m\u001B[43m,\u001B[49m\u001B[43m \u001B[49m\u001B[43muri\u001B[49m\u001B[43m,\u001B[49m\u001B[43m \u001B[49m\u001B[43msigned\u001B[49m\u001B[43m,\u001B[49m\u001B[43m \u001B[49m\u001B[38;5;241;43m*\u001B[39;49m\u001B[38;5;241;43m*\u001B[39;49m\u001B[43mkwargs\u001B[49m\u001B[43m)\u001B[49m\n",
      "File \u001B[1;32mC:\\code\\crypto-trading-neural-networks-algorythms\\.venv\\Lib\\site-packages\\binance\\client.py:359\u001B[0m, in \u001B[0;36mClient._request\u001B[1;34m(self, method, uri, signed, force_params, **kwargs)\u001B[0m\n\u001B[0;32m    356\u001B[0m kwargs \u001B[38;5;241m=\u001B[39m \u001B[38;5;28mself\u001B[39m\u001B[38;5;241m.\u001B[39m_get_request_kwargs(method, signed, force_params, \u001B[38;5;241m*\u001B[39m\u001B[38;5;241m*\u001B[39mkwargs)\n\u001B[0;32m    358\u001B[0m \u001B[38;5;28mself\u001B[39m\u001B[38;5;241m.\u001B[39mresponse \u001B[38;5;241m=\u001B[39m \u001B[38;5;28mgetattr\u001B[39m(\u001B[38;5;28mself\u001B[39m\u001B[38;5;241m.\u001B[39msession, method)(uri, \u001B[38;5;241m*\u001B[39m\u001B[38;5;241m*\u001B[39mkwargs)\n\u001B[1;32m--> 359\u001B[0m \u001B[38;5;28;01mreturn\u001B[39;00m \u001B[38;5;28;43mself\u001B[39;49m\u001B[38;5;241;43m.\u001B[39;49m\u001B[43m_handle_response\u001B[49m\u001B[43m(\u001B[49m\u001B[38;5;28;43mself\u001B[39;49m\u001B[38;5;241;43m.\u001B[39;49m\u001B[43mresponse\u001B[49m\u001B[43m)\u001B[49m\n",
      "File \u001B[1;32mC:\\code\\crypto-trading-neural-networks-algorythms\\.venv\\Lib\\site-packages\\binance\\client.py:368\u001B[0m, in \u001B[0;36mClient._handle_response\u001B[1;34m(response)\u001B[0m\n\u001B[0;32m    363\u001B[0m \u001B[38;5;250m\u001B[39m\u001B[38;5;124;03m\"\"\"Internal helper for handling API responses from the Binance server.\u001B[39;00m\n\u001B[0;32m    364\u001B[0m \u001B[38;5;124;03mRaises the appropriate exceptions when necessary; otherwise, returns the\u001B[39;00m\n\u001B[0;32m    365\u001B[0m \u001B[38;5;124;03mresponse.\u001B[39;00m\n\u001B[0;32m    366\u001B[0m \u001B[38;5;124;03m\"\"\"\u001B[39;00m\n\u001B[0;32m    367\u001B[0m \u001B[38;5;28;01mif\u001B[39;00m \u001B[38;5;129;01mnot\u001B[39;00m (\u001B[38;5;241m200\u001B[39m \u001B[38;5;241m<\u001B[39m\u001B[38;5;241m=\u001B[39m response\u001B[38;5;241m.\u001B[39mstatus_code \u001B[38;5;241m<\u001B[39m \u001B[38;5;241m300\u001B[39m):\n\u001B[1;32m--> 368\u001B[0m     \u001B[38;5;28;01mraise\u001B[39;00m BinanceAPIException(response, response\u001B[38;5;241m.\u001B[39mstatus_code, response\u001B[38;5;241m.\u001B[39mtext)\n\u001B[0;32m    369\u001B[0m \u001B[38;5;28;01mtry\u001B[39;00m:\n\u001B[0;32m    370\u001B[0m     \u001B[38;5;28;01mreturn\u001B[39;00m response\u001B[38;5;241m.\u001B[39mjson()\n",
      "\u001B[1;31mBinanceAPIException\u001B[0m: APIError(code=-1121): Invalid symbol."
     ]
    }
   ],
   "execution_count": 21
  },
  {
   "metadata": {
    "ExecuteTime": {
     "end_time": "2024-09-04T01:12:33.786665Z",
     "start_time": "2024-09-04T01:12:33.782074Z"
    }
   },
   "cell_type": "code",
   "source": "pd.to_datetime((timestamp), unit='ms')",
   "id": "51a9c6deac374ef7",
   "outputs": [
    {
     "data": {
      "text/plain": [
       "Timestamp('2024-08-07 00:00:00')"
      ]
     },
     "execution_count": 22,
     "metadata": {},
     "output_type": "execute_result"
    }
   ],
   "execution_count": 22
  },
  {
   "metadata": {
    "ExecuteTime": {
     "end_time": "2024-09-04T01:11:21.711245Z",
     "start_time": "2024-09-04T01:11:21.707558Z"
    }
   },
   "cell_type": "code",
   "source": [
    "def get_history(symbol, interval, start, end = None):\n",
    "    bars = client.get_historical_klines(symbol=symbol, interval=interval, start_str=start, end_str=end, limit=1000)\n",
    "    df = pd.DataFrame(bars)\n",
    "    df['Date'] = pd.to_datetime(df.iloc[:,0], unit='ms')\n",
    "    df.columns = [\n",
    "        'Open Time', 'Open', 'High', 'Low', 'Close', 'Volume', 'Close Time', 'Quote Asset Volume', 'Number of Trades', \"Taker Buy Base Asset Volume\", 'Taker Buy Quote Asset Volume', 'Ignore', 'Date'\n",
    "    ]\n",
    "    df.set_index('Date', inplace=True)\n",
    "    for column in df.columns:\n",
    "        df[column] = pd.to_numeric(df[column], errors='coerce')\n",
    "    return df"
   ],
   "id": "8e837721147d0319",
   "outputs": [],
   "execution_count": 17
  },
  {
   "metadata": {
    "ExecuteTime": {
     "end_time": "2024-09-04T01:12:45.831900Z",
     "start_time": "2024-09-04T01:12:45.564500Z"
    }
   },
   "cell_type": "code",
   "source": [
    "df = get_history('BTCUSDT', interval='1h', start=timestamp)\n",
    "df"
   ],
   "id": "1a93c18eb21ec8ba",
   "outputs": [
    {
     "data": {
      "text/plain": [
       "                         Open Time      Open      High      Low     Close  \\\n",
       "Date                                                                        \n",
       "2024-08-07 13:00:00  1723035600000  57268.01  57552.44  21250.0  56825.99   \n",
       "2024-08-07 14:00:00  1723039200000  56826.83  80000.00  21250.0  56119.84   \n",
       "2024-08-07 15:00:00  1723042800000  56132.00  56350.75  21250.0  55908.27   \n",
       "2024-08-07 16:00:00  1723046400000  55915.61  56290.04  21250.0  55886.47   \n",
       "2024-08-07 17:00:00  1723050000000  55877.49  56214.84  21250.0  55628.28   \n",
       "...                            ...       ...       ...      ...       ...   \n",
       "2024-09-03 21:00:00  1725397200000  58215.96  59373.00  40106.0  58112.00   \n",
       "2024-09-03 22:00:00  1725400800000  58115.11  58152.76  57864.0  57864.00   \n",
       "2024-09-03 23:00:00  1725404400000  57864.99  57899.00  40073.0  57506.91   \n",
       "2024-09-04 00:00:00  1725408000000  57495.98  58080.50  40073.0  57290.99   \n",
       "2024-09-04 01:00:00  1725411600000  57290.99  59374.00  40073.0  55911.57   \n",
       "\n",
       "                       Volume     Close Time  Quote Asset Volume  \\\n",
       "Date                                                               \n",
       "2024-08-07 13:00:00  17.78981  1723039199999        1.016193e+06   \n",
       "2024-08-07 14:00:00  18.77845  1723042799999        1.058372e+06   \n",
       "2024-08-07 15:00:00  19.53876  1723046399999        1.094926e+06   \n",
       "2024-08-07 16:00:00  18.96112  1723049999999        1.062444e+06   \n",
       "2024-08-07 17:00:00  17.64953  1723053599999        9.855920e+05   \n",
       "...                       ...            ...                 ...   \n",
       "2024-09-03 21:00:00  16.70378  1725400799999        9.648559e+05   \n",
       "2024-09-03 22:00:00  17.43289  1725404399999        1.011259e+06   \n",
       "2024-09-03 23:00:00  16.88427  1725407999999        9.583567e+05   \n",
       "2024-09-04 00:00:00  21.05289  1725411599999        1.214250e+06   \n",
       "2024-09-04 01:00:00   2.13116  1725415199999        1.220295e+05   \n",
       "\n",
       "                     Number of Trades  Taker Buy Base Asset Volume  \\\n",
       "Date                                                                 \n",
       "2024-08-07 13:00:00              5437                     10.83106   \n",
       "2024-08-07 14:00:00              4648                     11.95959   \n",
       "2024-08-07 15:00:00              5071                     12.95947   \n",
       "2024-08-07 16:00:00              4865                     11.35758   \n",
       "2024-08-07 17:00:00              4538                     12.57976   \n",
       "...                               ...                          ...   \n",
       "2024-09-03 21:00:00              3142                     10.24549   \n",
       "2024-09-03 22:00:00              3456                      8.82154   \n",
       "2024-09-03 23:00:00              3530                      7.15259   \n",
       "2024-09-04 00:00:00              4435                     14.38732   \n",
       "2024-09-04 01:00:00               493                      0.70375   \n",
       "\n",
       "                     Taker Buy Quote Asset Volume  Ignore  \n",
       "Date                                                       \n",
       "2024-08-07 13:00:00                 618778.235832       0  \n",
       "2024-08-07 14:00:00                 674118.946053       0  \n",
       "2024-08-07 15:00:00                 726204.567835       0  \n",
       "2024-08-07 16:00:00                 636582.658072       0  \n",
       "2024-08-07 17:00:00                 702470.655079       0  \n",
       "...                                           ...     ...  \n",
       "2024-09-03 21:00:00                 595918.460213       0  \n",
       "2024-09-03 22:00:00                 511923.420349       0  \n",
       "2024-09-03 23:00:00                 412749.169103       0  \n",
       "2024-09-04 00:00:00                 831265.997784       0  \n",
       "2024-09-04 01:00:00                  41075.012250       0  \n",
       "\n",
       "[661 rows x 12 columns]"
      ],
      "text/html": [
       "<div>\n",
       "<style scoped>\n",
       "    .dataframe tbody tr th:only-of-type {\n",
       "        vertical-align: middle;\n",
       "    }\n",
       "\n",
       "    .dataframe tbody tr th {\n",
       "        vertical-align: top;\n",
       "    }\n",
       "\n",
       "    .dataframe thead th {\n",
       "        text-align: right;\n",
       "    }\n",
       "</style>\n",
       "<table border=\"1\" class=\"dataframe\">\n",
       "  <thead>\n",
       "    <tr style=\"text-align: right;\">\n",
       "      <th></th>\n",
       "      <th>Open Time</th>\n",
       "      <th>Open</th>\n",
       "      <th>High</th>\n",
       "      <th>Low</th>\n",
       "      <th>Close</th>\n",
       "      <th>Volume</th>\n",
       "      <th>Close Time</th>\n",
       "      <th>Quote Asset Volume</th>\n",
       "      <th>Number of Trades</th>\n",
       "      <th>Taker Buy Base Asset Volume</th>\n",
       "      <th>Taker Buy Quote Asset Volume</th>\n",
       "      <th>Ignore</th>\n",
       "    </tr>\n",
       "    <tr>\n",
       "      <th>Date</th>\n",
       "      <th></th>\n",
       "      <th></th>\n",
       "      <th></th>\n",
       "      <th></th>\n",
       "      <th></th>\n",
       "      <th></th>\n",
       "      <th></th>\n",
       "      <th></th>\n",
       "      <th></th>\n",
       "      <th></th>\n",
       "      <th></th>\n",
       "      <th></th>\n",
       "    </tr>\n",
       "  </thead>\n",
       "  <tbody>\n",
       "    <tr>\n",
       "      <th>2024-08-07 13:00:00</th>\n",
       "      <td>1723035600000</td>\n",
       "      <td>57268.01</td>\n",
       "      <td>57552.44</td>\n",
       "      <td>21250.0</td>\n",
       "      <td>56825.99</td>\n",
       "      <td>17.78981</td>\n",
       "      <td>1723039199999</td>\n",
       "      <td>1.016193e+06</td>\n",
       "      <td>5437</td>\n",
       "      <td>10.83106</td>\n",
       "      <td>618778.235832</td>\n",
       "      <td>0</td>\n",
       "    </tr>\n",
       "    <tr>\n",
       "      <th>2024-08-07 14:00:00</th>\n",
       "      <td>1723039200000</td>\n",
       "      <td>56826.83</td>\n",
       "      <td>80000.00</td>\n",
       "      <td>21250.0</td>\n",
       "      <td>56119.84</td>\n",
       "      <td>18.77845</td>\n",
       "      <td>1723042799999</td>\n",
       "      <td>1.058372e+06</td>\n",
       "      <td>4648</td>\n",
       "      <td>11.95959</td>\n",
       "      <td>674118.946053</td>\n",
       "      <td>0</td>\n",
       "    </tr>\n",
       "    <tr>\n",
       "      <th>2024-08-07 15:00:00</th>\n",
       "      <td>1723042800000</td>\n",
       "      <td>56132.00</td>\n",
       "      <td>56350.75</td>\n",
       "      <td>21250.0</td>\n",
       "      <td>55908.27</td>\n",
       "      <td>19.53876</td>\n",
       "      <td>1723046399999</td>\n",
       "      <td>1.094926e+06</td>\n",
       "      <td>5071</td>\n",
       "      <td>12.95947</td>\n",
       "      <td>726204.567835</td>\n",
       "      <td>0</td>\n",
       "    </tr>\n",
       "    <tr>\n",
       "      <th>2024-08-07 16:00:00</th>\n",
       "      <td>1723046400000</td>\n",
       "      <td>55915.61</td>\n",
       "      <td>56290.04</td>\n",
       "      <td>21250.0</td>\n",
       "      <td>55886.47</td>\n",
       "      <td>18.96112</td>\n",
       "      <td>1723049999999</td>\n",
       "      <td>1.062444e+06</td>\n",
       "      <td>4865</td>\n",
       "      <td>11.35758</td>\n",
       "      <td>636582.658072</td>\n",
       "      <td>0</td>\n",
       "    </tr>\n",
       "    <tr>\n",
       "      <th>2024-08-07 17:00:00</th>\n",
       "      <td>1723050000000</td>\n",
       "      <td>55877.49</td>\n",
       "      <td>56214.84</td>\n",
       "      <td>21250.0</td>\n",
       "      <td>55628.28</td>\n",
       "      <td>17.64953</td>\n",
       "      <td>1723053599999</td>\n",
       "      <td>9.855920e+05</td>\n",
       "      <td>4538</td>\n",
       "      <td>12.57976</td>\n",
       "      <td>702470.655079</td>\n",
       "      <td>0</td>\n",
       "    </tr>\n",
       "    <tr>\n",
       "      <th>...</th>\n",
       "      <td>...</td>\n",
       "      <td>...</td>\n",
       "      <td>...</td>\n",
       "      <td>...</td>\n",
       "      <td>...</td>\n",
       "      <td>...</td>\n",
       "      <td>...</td>\n",
       "      <td>...</td>\n",
       "      <td>...</td>\n",
       "      <td>...</td>\n",
       "      <td>...</td>\n",
       "      <td>...</td>\n",
       "    </tr>\n",
       "    <tr>\n",
       "      <th>2024-09-03 21:00:00</th>\n",
       "      <td>1725397200000</td>\n",
       "      <td>58215.96</td>\n",
       "      <td>59373.00</td>\n",
       "      <td>40106.0</td>\n",
       "      <td>58112.00</td>\n",
       "      <td>16.70378</td>\n",
       "      <td>1725400799999</td>\n",
       "      <td>9.648559e+05</td>\n",
       "      <td>3142</td>\n",
       "      <td>10.24549</td>\n",
       "      <td>595918.460213</td>\n",
       "      <td>0</td>\n",
       "    </tr>\n",
       "    <tr>\n",
       "      <th>2024-09-03 22:00:00</th>\n",
       "      <td>1725400800000</td>\n",
       "      <td>58115.11</td>\n",
       "      <td>58152.76</td>\n",
       "      <td>57864.0</td>\n",
       "      <td>57864.00</td>\n",
       "      <td>17.43289</td>\n",
       "      <td>1725404399999</td>\n",
       "      <td>1.011259e+06</td>\n",
       "      <td>3456</td>\n",
       "      <td>8.82154</td>\n",
       "      <td>511923.420349</td>\n",
       "      <td>0</td>\n",
       "    </tr>\n",
       "    <tr>\n",
       "      <th>2024-09-03 23:00:00</th>\n",
       "      <td>1725404400000</td>\n",
       "      <td>57864.99</td>\n",
       "      <td>57899.00</td>\n",
       "      <td>40073.0</td>\n",
       "      <td>57506.91</td>\n",
       "      <td>16.88427</td>\n",
       "      <td>1725407999999</td>\n",
       "      <td>9.583567e+05</td>\n",
       "      <td>3530</td>\n",
       "      <td>7.15259</td>\n",
       "      <td>412749.169103</td>\n",
       "      <td>0</td>\n",
       "    </tr>\n",
       "    <tr>\n",
       "      <th>2024-09-04 00:00:00</th>\n",
       "      <td>1725408000000</td>\n",
       "      <td>57495.98</td>\n",
       "      <td>58080.50</td>\n",
       "      <td>40073.0</td>\n",
       "      <td>57290.99</td>\n",
       "      <td>21.05289</td>\n",
       "      <td>1725411599999</td>\n",
       "      <td>1.214250e+06</td>\n",
       "      <td>4435</td>\n",
       "      <td>14.38732</td>\n",
       "      <td>831265.997784</td>\n",
       "      <td>0</td>\n",
       "    </tr>\n",
       "    <tr>\n",
       "      <th>2024-09-04 01:00:00</th>\n",
       "      <td>1725411600000</td>\n",
       "      <td>57290.99</td>\n",
       "      <td>59374.00</td>\n",
       "      <td>40073.0</td>\n",
       "      <td>55911.57</td>\n",
       "      <td>2.13116</td>\n",
       "      <td>1725415199999</td>\n",
       "      <td>1.220295e+05</td>\n",
       "      <td>493</td>\n",
       "      <td>0.70375</td>\n",
       "      <td>41075.012250</td>\n",
       "      <td>0</td>\n",
       "    </tr>\n",
       "  </tbody>\n",
       "</table>\n",
       "<p>661 rows × 12 columns</p>\n",
       "</div>"
      ]
     },
     "execution_count": 23,
     "metadata": {},
     "output_type": "execute_result"
    }
   ],
   "execution_count": 23
  },
  {
   "metadata": {
    "ExecuteTime": {
     "end_time": "2024-09-04T01:16:28.110553Z",
     "start_time": "2024-09-04T01:16:28.105319Z"
    }
   },
   "cell_type": "code",
   "source": [
    "from binance import AsyncClient, BinanceSocketManager\n",
    "\n",
    "data = pd.DataFrame(columns = [\"Open\", \"High\", \"Low\", \"Close\", \"Volume\", \"Complete\"])\n",
    "\n",
    "def stream_data(msg):\n",
    "    global data\n",
    "    event_time = pd.to_datetime(msg['E'], unit='ms')\n",
    "    start_time = pd.to_datetime(msg['k']['t'], unit='ms')\n",
    "    first = float(msg['k']['o'])\n",
    "    high = float(msg['k']['h'])\n",
    "    low = float(msg['k']['l'])\n",
    "    close = float(msg['k']['c'])\n",
    "    volume = float(msg['k']['v'])\n",
    "    complete = float(msg['k']['x'])\n",
    "    \n",
    "    print(f\"Time: {event_time} | Price {close}\")\n",
    "    \n",
    "    data.loc[start_time] = [first, high, low, close, volume, complete]\n",
    "\n",
    "\n",
    "async def main():\n",
    "    client = await AsyncClient.create()\n",
    "    bm = BinanceSocketManager(client)\n",
    "    ts = bm.kline_socket(symbol='BTCUSDT', interval='1m')\n",
    "    \n",
    "    async with ts as tscm:\n",
    "        for _ in range(50):\n",
    "            res = await tscm.recv()\n",
    "            stream_data(res)\n",
    "    await client.close_connection()\n"
   ],
   "id": "154302063ae96238",
   "outputs": [],
   "execution_count": 26
  },
  {
   "metadata": {
    "ExecuteTime": {
     "end_time": "2024-09-04T01:18:14.387759Z",
     "start_time": "2024-09-04T01:16:30.660721Z"
    }
   },
   "cell_type": "code",
   "source": "await main()",
   "id": "e131cbade681eb3f",
   "outputs": [
    {
     "name": "stdout",
     "output_type": "stream",
     "text": [
      "Time: 2024-09-04 01:16:34.118000 | Price 56147.98\n",
      "Time: 2024-09-04 01:16:36.156000 | Price 56149.99\n",
      "Time: 2024-09-04 01:16:38.195000 | Price 56169.43\n",
      "Time: 2024-09-04 01:16:40.575000 | Price 56160.69\n",
      "Time: 2024-09-04 01:16:42.604000 | Price 56177.52\n",
      "Time: 2024-09-04 01:16:44.671000 | Price 56174.71\n",
      "Time: 2024-09-04 01:16:46.739000 | Price 56172.16\n",
      "Time: 2024-09-04 01:16:48.814000 | Price 56190.0\n",
      "Time: 2024-09-04 01:16:50.827000 | Price 56192.68\n",
      "Time: 2024-09-04 01:16:52.983000 | Price 56195.76\n",
      "Time: 2024-09-04 01:16:55.051000 | Price 56186.02\n",
      "Time: 2024-09-04 01:16:57.067000 | Price 56191.54\n",
      "Time: 2024-09-04 01:16:59.130000 | Price 56205.86\n",
      "Time: 2024-09-04 01:17:00.006000 | Price 56211.1\n",
      "Time: 2024-09-04 01:17:02.067000 | Price 56227.52\n",
      "Time: 2024-09-04 01:17:04.075000 | Price 56261.09\n",
      "Time: 2024-09-04 01:17:06.211000 | Price 56258.0\n",
      "Time: 2024-09-04 01:17:08.287000 | Price 56235.99\n",
      "Time: 2024-09-04 01:17:10.305000 | Price 56221.12\n",
      "Time: 2024-09-04 01:17:12.422000 | Price 56191.11\n",
      "Time: 2024-09-04 01:17:14.432000 | Price 56198.54\n",
      "Time: 2024-09-04 01:17:16.475000 | Price 56214.02\n",
      "Time: 2024-09-04 01:17:18.611000 | Price 56216.15\n",
      "Time: 2024-09-04 01:17:20.732000 | Price 56201.11\n",
      "Time: 2024-09-04 01:17:22.788000 | Price 56194.0\n",
      "Time: 2024-09-04 01:17:24.889000 | Price 56174.98\n",
      "Time: 2024-09-04 01:17:26.897000 | Price 56181.37\n",
      "Time: 2024-09-04 01:17:28.984000 | Price 56174.0\n",
      "Time: 2024-09-04 01:17:31.052000 | Price 56177.5\n",
      "Time: 2024-09-04 01:17:33.073000 | Price 56174.0\n",
      "Time: 2024-09-04 01:17:35.163000 | Price 56171.59\n",
      "Time: 2024-09-04 01:17:37.597000 | Price 56177.51\n",
      "Time: 2024-09-04 01:17:39.693000 | Price 56162.63\n",
      "Time: 2024-09-04 01:17:41.791000 | Price 56153.63\n",
      "Time: 2024-09-04 01:17:43.924000 | Price 56151.11\n",
      "Time: 2024-09-04 01:17:45.978000 | Price 56150.0\n",
      "Time: 2024-09-04 01:17:48.210000 | Price 56113.19\n",
      "Time: 2024-09-04 01:17:50.254000 | Price 56118.0\n",
      "Time: 2024-09-04 01:17:52.277000 | Price 56146.0\n",
      "Time: 2024-09-04 01:17:54.292000 | Price 56141.39\n",
      "Time: 2024-09-04 01:17:56.349000 | Price 56137.98\n",
      "Time: 2024-09-04 01:17:58.669000 | Price 56130.0\n",
      "Time: 2024-09-04 01:18:00.009000 | Price 56129.99\n",
      "Time: 2024-09-04 01:18:02.326000 | Price 56126.85\n",
      "Time: 2024-09-04 01:18:04.351000 | Price 56126.0\n",
      "Time: 2024-09-04 01:18:06.657000 | Price 56129.94\n",
      "Time: 2024-09-04 01:18:08.792000 | Price 56169.49\n",
      "Time: 2024-09-04 01:18:11.061000 | Price 56169.48\n",
      "Time: 2024-09-04 01:18:13.285000 | Price 56169.49\n",
      "Time: 2024-09-04 01:18:15.384000 | Price 56164.0\n"
     ]
    }
   ],
   "execution_count": 27
  },
  {
   "metadata": {},
   "cell_type": "code",
   "outputs": [],
   "execution_count": null,
   "source": "",
   "id": "b7e930b9dcc5edfb"
  }
 ],
 "metadata": {
  "kernelspec": {
   "display_name": "Python 3",
   "language": "python",
   "name": "python3"
  },
  "language_info": {
   "codemirror_mode": {
    "name": "ipython",
    "version": 2
   },
   "file_extension": ".py",
   "mimetype": "text/x-python",
   "name": "python",
   "nbconvert_exporter": "python",
   "pygments_lexer": "ipython2",
   "version": "2.7.6"
  }
 },
 "nbformat": 4,
 "nbformat_minor": 5
}
