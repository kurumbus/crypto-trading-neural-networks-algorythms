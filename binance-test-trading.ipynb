{
 "cells": [
  {
   "cell_type": "code",
   "id": "initial_id",
   "metadata": {
    "collapsed": true,
    "ExecuteTime": {
     "end_time": "2024-09-04T01:01:36.680901Z",
     "start_time": "2024-09-04T01:01:35.114499Z"
    }
   },
   "source": [
    "from Tools.scripts.nm2def import symbols\n",
    "from dotenv import load_dotenv, dotenv_values\n",
    "from binance.client import Client\n",
    "import pandas as pd"
   ],
   "outputs": [],
   "execution_count": 1
  },
  {
   "metadata": {
    "ExecuteTime": {
     "end_time": "2024-09-04T01:01:37.174353Z",
     "start_time": "2024-09-04T01:01:36.705990Z"
    }
   },
   "cell_type": "code",
   "source": [
    "config = dotenv_values(\".env\")\n",
    "client = Client(api_key=config['BINANCE_TEST_KEY'], api_secret=config['BINANCE_TEST_SECRET'], testnet=True)"
   ],
   "id": "f6519643affb7d1c",
   "outputs": [],
   "execution_count": 2
  },
  {
   "metadata": {
    "ExecuteTime": {
     "end_time": "2024-09-04T01:01:37.991075Z",
     "start_time": "2024-09-04T01:01:37.983627Z"
    }
   },
   "cell_type": "code",
   "source": "client",
   "id": "743648a2568cdf7a",
   "outputs": [
    {
     "data": {
      "text/plain": [
       "<binance.client.Client at 0x1cc5dd53f50>"
      ]
     },
     "execution_count": 3,
     "metadata": {},
     "output_type": "execute_result"
    }
   ],
   "execution_count": 3
  },
  {
   "metadata": {
    "ExecuteTime": {
     "end_time": "2024-09-04T01:02:47.003229Z",
     "start_time": "2024-09-04T01:02:46.834275Z"
    }
   },
   "cell_type": "code",
   "source": "account = client.get_account()",
   "id": "dbb7559fde12b3d8",
   "outputs": [],
   "execution_count": 5
  },
  {
   "metadata": {
    "ExecuteTime": {
     "end_time": "2024-09-04T01:02:54.761831Z",
     "start_time": "2024-09-04T01:02:54.752093Z"
    }
   },
   "cell_type": "code",
   "source": [
    "df = pd.DataFrame(account['balances'])\n",
    "df"
   ],
   "id": "45f66c57d2c696aa",
   "outputs": [
    {
     "data": {
      "text/plain": [
       "      asset            free      locked\n",
       "0       ETH      1.00000000  0.00000000\n",
       "1       BTC      1.00000000  0.00000000\n",
       "2       LTC      8.00000000  0.00000000\n",
       "3       BNB      1.00000000  0.00000000\n",
       "4      USDT  10000.00000000  0.00000000\n",
       "..      ...             ...         ...\n",
       "388   LISTA   1487.00000000  0.00000000\n",
       "389     ZRO    153.00000000  0.00000000\n",
       "390       G  12602.00000000  0.00000000\n",
       "391  BANANA     14.00000000  0.00000000\n",
       "392  RENDER    104.00000000  0.00000000\n",
       "\n",
       "[393 rows x 3 columns]"
      ],
      "text/html": [
       "<div>\n",
       "<style scoped>\n",
       "    .dataframe tbody tr th:only-of-type {\n",
       "        vertical-align: middle;\n",
       "    }\n",
       "\n",
       "    .dataframe tbody tr th {\n",
       "        vertical-align: top;\n",
       "    }\n",
       "\n",
       "    .dataframe thead th {\n",
       "        text-align: right;\n",
       "    }\n",
       "</style>\n",
       "<table border=\"1\" class=\"dataframe\">\n",
       "  <thead>\n",
       "    <tr style=\"text-align: right;\">\n",
       "      <th></th>\n",
       "      <th>asset</th>\n",
       "      <th>free</th>\n",
       "      <th>locked</th>\n",
       "    </tr>\n",
       "  </thead>\n",
       "  <tbody>\n",
       "    <tr>\n",
       "      <th>0</th>\n",
       "      <td>ETH</td>\n",
       "      <td>1.00000000</td>\n",
       "      <td>0.00000000</td>\n",
       "    </tr>\n",
       "    <tr>\n",
       "      <th>1</th>\n",
       "      <td>BTC</td>\n",
       "      <td>1.00000000</td>\n",
       "      <td>0.00000000</td>\n",
       "    </tr>\n",
       "    <tr>\n",
       "      <th>2</th>\n",
       "      <td>LTC</td>\n",
       "      <td>8.00000000</td>\n",
       "      <td>0.00000000</td>\n",
       "    </tr>\n",
       "    <tr>\n",
       "      <th>3</th>\n",
       "      <td>BNB</td>\n",
       "      <td>1.00000000</td>\n",
       "      <td>0.00000000</td>\n",
       "    </tr>\n",
       "    <tr>\n",
       "      <th>4</th>\n",
       "      <td>USDT</td>\n",
       "      <td>10000.00000000</td>\n",
       "      <td>0.00000000</td>\n",
       "    </tr>\n",
       "    <tr>\n",
       "      <th>...</th>\n",
       "      <td>...</td>\n",
       "      <td>...</td>\n",
       "      <td>...</td>\n",
       "    </tr>\n",
       "    <tr>\n",
       "      <th>388</th>\n",
       "      <td>LISTA</td>\n",
       "      <td>1487.00000000</td>\n",
       "      <td>0.00000000</td>\n",
       "    </tr>\n",
       "    <tr>\n",
       "      <th>389</th>\n",
       "      <td>ZRO</td>\n",
       "      <td>153.00000000</td>\n",
       "      <td>0.00000000</td>\n",
       "    </tr>\n",
       "    <tr>\n",
       "      <th>390</th>\n",
       "      <td>G</td>\n",
       "      <td>12602.00000000</td>\n",
       "      <td>0.00000000</td>\n",
       "    </tr>\n",
       "    <tr>\n",
       "      <th>391</th>\n",
       "      <td>BANANA</td>\n",
       "      <td>14.00000000</td>\n",
       "      <td>0.00000000</td>\n",
       "    </tr>\n",
       "    <tr>\n",
       "      <th>392</th>\n",
       "      <td>RENDER</td>\n",
       "      <td>104.00000000</td>\n",
       "      <td>0.00000000</td>\n",
       "    </tr>\n",
       "  </tbody>\n",
       "</table>\n",
       "<p>393 rows × 3 columns</p>\n",
       "</div>"
      ]
     },
     "execution_count": 8,
     "metadata": {},
     "output_type": "execute_result"
    }
   ],
   "execution_count": 8
  },
  {
   "metadata": {
    "ExecuteTime": {
     "end_time": "2024-09-04T01:03:32.309104Z",
     "start_time": "2024-09-04T01:03:32.288969Z"
    }
   },
   "cell_type": "code",
   "source": [
    "df.free = pd.to_numeric(df.free, errors='coerce')\n",
    "df.locked = pd.to_numeric(df.locked, errors='coerce')\n",
    "df.info()"
   ],
   "id": "5e2e7af103748bd9",
   "outputs": [
    {
     "name": "stdout",
     "output_type": "stream",
     "text": [
      "<class 'pandas.core.frame.DataFrame'>\n",
      "RangeIndex: 393 entries, 0 to 392\n",
      "Data columns (total 3 columns):\n",
      " #   Column  Non-Null Count  Dtype  \n",
      "---  ------  --------------  -----  \n",
      " 0   asset   393 non-null    object \n",
      " 1   free    393 non-null    float64\n",
      " 2   locked  393 non-null    float64\n",
      "dtypes: float64(2), object(1)\n",
      "memory usage: 9.3+ KB\n"
     ]
    }
   ],
   "execution_count": 11
  },
  {
   "metadata": {
    "ExecuteTime": {
     "end_time": "2024-09-04T01:03:45.410735Z",
     "start_time": "2024-09-04T01:03:45.163846Z"
    }
   },
   "cell_type": "code",
   "source": "client.get_asset_balance('BTC')",
   "id": "e446285d03868941",
   "outputs": [
    {
     "data": {
      "text/plain": [
       "{'asset': 'BTC', 'free': '1.00000000', 'locked': '0.00000000'}"
      ]
     },
     "execution_count": 12,
     "metadata": {},
     "output_type": "execute_result"
    }
   ],
   "execution_count": 12
  },
  {
   "metadata": {
    "ExecuteTime": {
     "end_time": "2024-09-04T01:03:52.371903Z",
     "start_time": "2024-09-04T01:03:52.157971Z"
    }
   },
   "cell_type": "code",
   "source": "client.get_asset_balance('ETH')",
   "id": "b43ad32bb808586d",
   "outputs": [
    {
     "data": {
      "text/plain": [
       "{'asset': 'ETH', 'free': '1.00000000', 'locked': '0.00000000'}"
      ]
     },
     "execution_count": 13,
     "metadata": {},
     "output_type": "execute_result"
    }
   ],
   "execution_count": 13
  },
  {
   "metadata": {
    "ExecuteTime": {
     "end_time": "2024-09-04T01:12:29.216586Z",
     "start_time": "2024-09-04T01:12:28.930969Z"
    }
   },
   "cell_type": "code",
   "source": [
    "timestamp = client._get_earliest_valid_timestamp(symbol='BTCUSDT', interval='1d')\n",
    "timestamp"
   ],
   "id": "45e0e3ab92192014",
   "outputs": [
    {
     "ename": "BinanceAPIException",
     "evalue": "APIError(code=-1121): Invalid symbol.",
     "output_type": "error",
     "traceback": [
      "\u001B[1;31m---------------------------------------------------------------------------\u001B[0m",
      "\u001B[1;31mBinanceAPIException\u001B[0m                       Traceback (most recent call last)",
      "Cell \u001B[1;32mIn[21], line 1\u001B[0m\n\u001B[1;32m----> 1\u001B[0m timestamp \u001B[38;5;241m=\u001B[39m \u001B[43mclient\u001B[49m\u001B[38;5;241;43m.\u001B[39;49m\u001B[43m_get_earliest_valid_timestamp\u001B[49m\u001B[43m(\u001B[49m\u001B[43msymbol\u001B[49m\u001B[38;5;241;43m=\u001B[39;49m\u001B[38;5;124;43m'\u001B[39;49m\u001B[38;5;124;43mBTCUSD\u001B[39;49m\u001B[38;5;124;43m'\u001B[39;49m\u001B[43m,\u001B[49m\u001B[43m \u001B[49m\u001B[43minterval\u001B[49m\u001B[38;5;241;43m=\u001B[39;49m\u001B[38;5;124;43m'\u001B[39;49m\u001B[38;5;124;43m1d\u001B[39;49m\u001B[38;5;124;43m'\u001B[39;49m\u001B[43m)\u001B[49m\n\u001B[0;32m      2\u001B[0m timestamp\n",
      "File \u001B[1;32mC:\\code\\crypto-trading-neural-networks-algorythms\\.venv\\Lib\\site-packages\\binance\\client.py:955\u001B[0m, in \u001B[0;36mClient._get_earliest_valid_timestamp\u001B[1;34m(self, symbol, interval, klines_type)\u001B[0m\n\u001B[0;32m    942\u001B[0m \u001B[38;5;28;01mdef\u001B[39;00m \u001B[38;5;21m_get_earliest_valid_timestamp\u001B[39m(\u001B[38;5;28mself\u001B[39m, symbol, interval, klines_type: HistoricalKlinesType \u001B[38;5;241m=\u001B[39m HistoricalKlinesType\u001B[38;5;241m.\u001B[39mSPOT):\n\u001B[0;32m    943\u001B[0m \u001B[38;5;250m    \u001B[39m\u001B[38;5;124;03m\"\"\"Get the earliest valid open timestamp from Binance\u001B[39;00m\n\u001B[0;32m    944\u001B[0m \n\u001B[0;32m    945\u001B[0m \u001B[38;5;124;03m    :param symbol: Name of symbol pair e.g. BNBBTC\u001B[39;00m\n\u001B[1;32m   (...)\u001B[0m\n\u001B[0;32m    953\u001B[0m \n\u001B[0;32m    954\u001B[0m \u001B[38;5;124;03m    \"\"\"\u001B[39;00m\n\u001B[1;32m--> 955\u001B[0m     kline \u001B[38;5;241m=\u001B[39m \u001B[38;5;28;43mself\u001B[39;49m\u001B[38;5;241;43m.\u001B[39;49m\u001B[43m_klines\u001B[49m\u001B[43m(\u001B[49m\n\u001B[0;32m    956\u001B[0m \u001B[43m        \u001B[49m\u001B[43mklines_type\u001B[49m\u001B[38;5;241;43m=\u001B[39;49m\u001B[43mklines_type\u001B[49m\u001B[43m,\u001B[49m\n\u001B[0;32m    957\u001B[0m \u001B[43m        \u001B[49m\u001B[43msymbol\u001B[49m\u001B[38;5;241;43m=\u001B[39;49m\u001B[43msymbol\u001B[49m\u001B[43m,\u001B[49m\n\u001B[0;32m    958\u001B[0m \u001B[43m        \u001B[49m\u001B[43minterval\u001B[49m\u001B[38;5;241;43m=\u001B[39;49m\u001B[43minterval\u001B[49m\u001B[43m,\u001B[49m\n\u001B[0;32m    959\u001B[0m \u001B[43m        \u001B[49m\u001B[43mlimit\u001B[49m\u001B[38;5;241;43m=\u001B[39;49m\u001B[38;5;241;43m1\u001B[39;49m\u001B[43m,\u001B[49m\n\u001B[0;32m    960\u001B[0m \u001B[43m        \u001B[49m\u001B[43mstartTime\u001B[49m\u001B[38;5;241;43m=\u001B[39;49m\u001B[38;5;241;43m0\u001B[39;49m\u001B[43m,\u001B[49m\n\u001B[0;32m    961\u001B[0m \u001B[43m        \u001B[49m\u001B[43mendTime\u001B[49m\u001B[38;5;241;43m=\u001B[39;49m\u001B[38;5;28;43mint\u001B[39;49m\u001B[43m(\u001B[49m\u001B[43mtime\u001B[49m\u001B[38;5;241;43m.\u001B[39;49m\u001B[43mtime\u001B[49m\u001B[43m(\u001B[49m\u001B[43m)\u001B[49m\u001B[43m \u001B[49m\u001B[38;5;241;43m*\u001B[39;49m\u001B[43m \u001B[49m\u001B[38;5;241;43m1000\u001B[39;49m\u001B[43m)\u001B[49m\n\u001B[0;32m    962\u001B[0m \u001B[43m    \u001B[49m\u001B[43m)\u001B[49m\n\u001B[0;32m    963\u001B[0m     \u001B[38;5;28;01mreturn\u001B[39;00m kline[\u001B[38;5;241m0\u001B[39m][\u001B[38;5;241m0\u001B[39m]\n",
      "File \u001B[1;32mC:\\code\\crypto-trading-neural-networks-algorythms\\.venv\\Lib\\site-packages\\binance\\client.py:934\u001B[0m, in \u001B[0;36mClient._klines\u001B[1;34m(self, klines_type, **params)\u001B[0m\n\u001B[0;32m    931\u001B[0m     \u001B[38;5;28;01mdel\u001B[39;00m params[\u001B[38;5;124m'\u001B[39m\u001B[38;5;124mendTime\u001B[39m\u001B[38;5;124m'\u001B[39m]\n\u001B[0;32m    933\u001B[0m \u001B[38;5;28;01mif\u001B[39;00m HistoricalKlinesType\u001B[38;5;241m.\u001B[39mSPOT \u001B[38;5;241m==\u001B[39m klines_type:\n\u001B[1;32m--> 934\u001B[0m     \u001B[38;5;28;01mreturn\u001B[39;00m \u001B[38;5;28;43mself\u001B[39;49m\u001B[38;5;241;43m.\u001B[39;49m\u001B[43mget_klines\u001B[49m\u001B[43m(\u001B[49m\u001B[38;5;241;43m*\u001B[39;49m\u001B[38;5;241;43m*\u001B[39;49m\u001B[43mparams\u001B[49m\u001B[43m)\u001B[49m\n\u001B[0;32m    935\u001B[0m \u001B[38;5;28;01melif\u001B[39;00m HistoricalKlinesType\u001B[38;5;241m.\u001B[39mFUTURES \u001B[38;5;241m==\u001B[39m klines_type:\n\u001B[0;32m    936\u001B[0m     \u001B[38;5;28;01mreturn\u001B[39;00m \u001B[38;5;28mself\u001B[39m\u001B[38;5;241m.\u001B[39mfutures_klines(\u001B[38;5;241m*\u001B[39m\u001B[38;5;241m*\u001B[39mparams)\n",
      "File \u001B[1;32mC:\\code\\crypto-trading-neural-networks-algorythms\\.venv\\Lib\\site-packages\\binance\\client.py:919\u001B[0m, in \u001B[0;36mClient.get_klines\u001B[1;34m(self, **params)\u001B[0m\n\u001B[0;32m    879\u001B[0m \u001B[38;5;28;01mdef\u001B[39;00m \u001B[38;5;21mget_klines\u001B[39m(\u001B[38;5;28mself\u001B[39m, \u001B[38;5;241m*\u001B[39m\u001B[38;5;241m*\u001B[39mparams) \u001B[38;5;241m-\u001B[39m\u001B[38;5;241m>\u001B[39m Dict:\n\u001B[0;32m    880\u001B[0m \u001B[38;5;250m    \u001B[39m\u001B[38;5;124;03m\"\"\"Kline/candlestick bars for a symbol. Klines are uniquely identified by their open time.\u001B[39;00m\n\u001B[0;32m    881\u001B[0m \n\u001B[0;32m    882\u001B[0m \u001B[38;5;124;03m    https://binance-docs.github.io/apidocs/spot/en/#kline-candlestick-data\u001B[39;00m\n\u001B[1;32m   (...)\u001B[0m\n\u001B[0;32m    917\u001B[0m \n\u001B[0;32m    918\u001B[0m \u001B[38;5;124;03m    \"\"\"\u001B[39;00m\n\u001B[1;32m--> 919\u001B[0m     \u001B[38;5;28;01mreturn\u001B[39;00m \u001B[38;5;28;43mself\u001B[39;49m\u001B[38;5;241;43m.\u001B[39;49m\u001B[43m_get\u001B[49m\u001B[43m(\u001B[49m\u001B[38;5;124;43m'\u001B[39;49m\u001B[38;5;124;43mklines\u001B[39;49m\u001B[38;5;124;43m'\u001B[39;49m\u001B[43m,\u001B[49m\u001B[43m \u001B[49m\u001B[43mdata\u001B[49m\u001B[38;5;241;43m=\u001B[39;49m\u001B[43mparams\u001B[49m\u001B[43m,\u001B[49m\u001B[43m \u001B[49m\u001B[43mversion\u001B[49m\u001B[38;5;241;43m=\u001B[39;49m\u001B[38;5;28;43mself\u001B[39;49m\u001B[38;5;241;43m.\u001B[39;49m\u001B[43mPRIVATE_API_VERSION\u001B[49m\u001B[43m)\u001B[49m\n",
      "File \u001B[1;32mC:\\code\\crypto-trading-neural-networks-algorythms\\.venv\\Lib\\site-packages\\binance\\client.py:415\u001B[0m, in \u001B[0;36mClient._get\u001B[1;34m(self, path, signed, version, **kwargs)\u001B[0m\n\u001B[0;32m    414\u001B[0m \u001B[38;5;28;01mdef\u001B[39;00m \u001B[38;5;21m_get\u001B[39m(\u001B[38;5;28mself\u001B[39m, path, signed\u001B[38;5;241m=\u001B[39m\u001B[38;5;28;01mFalse\u001B[39;00m, version\u001B[38;5;241m=\u001B[39mBaseClient\u001B[38;5;241m.\u001B[39mPUBLIC_API_VERSION, \u001B[38;5;241m*\u001B[39m\u001B[38;5;241m*\u001B[39mkwargs):\n\u001B[1;32m--> 415\u001B[0m     \u001B[38;5;28;01mreturn\u001B[39;00m \u001B[38;5;28;43mself\u001B[39;49m\u001B[38;5;241;43m.\u001B[39;49m\u001B[43m_request_api\u001B[49m\u001B[43m(\u001B[49m\u001B[38;5;124;43m'\u001B[39;49m\u001B[38;5;124;43mget\u001B[39;49m\u001B[38;5;124;43m'\u001B[39;49m\u001B[43m,\u001B[49m\u001B[43m \u001B[49m\u001B[43mpath\u001B[49m\u001B[43m,\u001B[49m\u001B[43m \u001B[49m\u001B[43msigned\u001B[49m\u001B[43m,\u001B[49m\u001B[43m \u001B[49m\u001B[43mversion\u001B[49m\u001B[43m,\u001B[49m\u001B[43m \u001B[49m\u001B[38;5;241;43m*\u001B[39;49m\u001B[38;5;241;43m*\u001B[39;49m\u001B[43mkwargs\u001B[49m\u001B[43m)\u001B[49m\n",
      "File \u001B[1;32mC:\\code\\crypto-trading-neural-networks-algorythms\\.venv\\Lib\\site-packages\\binance\\client.py:378\u001B[0m, in \u001B[0;36mClient._request_api\u001B[1;34m(self, method, path, signed, version, **kwargs)\u001B[0m\n\u001B[0;32m    374\u001B[0m \u001B[38;5;28;01mdef\u001B[39;00m \u001B[38;5;21m_request_api\u001B[39m(\n\u001B[0;32m    375\u001B[0m     \u001B[38;5;28mself\u001B[39m, method, path: \u001B[38;5;28mstr\u001B[39m, signed: \u001B[38;5;28mbool\u001B[39m \u001B[38;5;241m=\u001B[39m \u001B[38;5;28;01mFalse\u001B[39;00m, version\u001B[38;5;241m=\u001B[39mBaseClient\u001B[38;5;241m.\u001B[39mPUBLIC_API_VERSION, \u001B[38;5;241m*\u001B[39m\u001B[38;5;241m*\u001B[39mkwargs\n\u001B[0;32m    376\u001B[0m ):\n\u001B[0;32m    377\u001B[0m     uri \u001B[38;5;241m=\u001B[39m \u001B[38;5;28mself\u001B[39m\u001B[38;5;241m.\u001B[39m_create_api_uri(path, signed, version)\n\u001B[1;32m--> 378\u001B[0m     \u001B[38;5;28;01mreturn\u001B[39;00m \u001B[38;5;28;43mself\u001B[39;49m\u001B[38;5;241;43m.\u001B[39;49m\u001B[43m_request\u001B[49m\u001B[43m(\u001B[49m\u001B[43mmethod\u001B[49m\u001B[43m,\u001B[49m\u001B[43m \u001B[49m\u001B[43muri\u001B[49m\u001B[43m,\u001B[49m\u001B[43m \u001B[49m\u001B[43msigned\u001B[49m\u001B[43m,\u001B[49m\u001B[43m \u001B[49m\u001B[38;5;241;43m*\u001B[39;49m\u001B[38;5;241;43m*\u001B[39;49m\u001B[43mkwargs\u001B[49m\u001B[43m)\u001B[49m\n",
      "File \u001B[1;32mC:\\code\\crypto-trading-neural-networks-algorythms\\.venv\\Lib\\site-packages\\binance\\client.py:359\u001B[0m, in \u001B[0;36mClient._request\u001B[1;34m(self, method, uri, signed, force_params, **kwargs)\u001B[0m\n\u001B[0;32m    356\u001B[0m kwargs \u001B[38;5;241m=\u001B[39m \u001B[38;5;28mself\u001B[39m\u001B[38;5;241m.\u001B[39m_get_request_kwargs(method, signed, force_params, \u001B[38;5;241m*\u001B[39m\u001B[38;5;241m*\u001B[39mkwargs)\n\u001B[0;32m    358\u001B[0m \u001B[38;5;28mself\u001B[39m\u001B[38;5;241m.\u001B[39mresponse \u001B[38;5;241m=\u001B[39m \u001B[38;5;28mgetattr\u001B[39m(\u001B[38;5;28mself\u001B[39m\u001B[38;5;241m.\u001B[39msession, method)(uri, \u001B[38;5;241m*\u001B[39m\u001B[38;5;241m*\u001B[39mkwargs)\n\u001B[1;32m--> 359\u001B[0m \u001B[38;5;28;01mreturn\u001B[39;00m \u001B[38;5;28;43mself\u001B[39;49m\u001B[38;5;241;43m.\u001B[39;49m\u001B[43m_handle_response\u001B[49m\u001B[43m(\u001B[49m\u001B[38;5;28;43mself\u001B[39;49m\u001B[38;5;241;43m.\u001B[39;49m\u001B[43mresponse\u001B[49m\u001B[43m)\u001B[49m\n",
      "File \u001B[1;32mC:\\code\\crypto-trading-neural-networks-algorythms\\.venv\\Lib\\site-packages\\binance\\client.py:368\u001B[0m, in \u001B[0;36mClient._handle_response\u001B[1;34m(response)\u001B[0m\n\u001B[0;32m    363\u001B[0m \u001B[38;5;250m\u001B[39m\u001B[38;5;124;03m\"\"\"Internal helper for handling API responses from the Binance server.\u001B[39;00m\n\u001B[0;32m    364\u001B[0m \u001B[38;5;124;03mRaises the appropriate exceptions when necessary; otherwise, returns the\u001B[39;00m\n\u001B[0;32m    365\u001B[0m \u001B[38;5;124;03mresponse.\u001B[39;00m\n\u001B[0;32m    366\u001B[0m \u001B[38;5;124;03m\"\"\"\u001B[39;00m\n\u001B[0;32m    367\u001B[0m \u001B[38;5;28;01mif\u001B[39;00m \u001B[38;5;129;01mnot\u001B[39;00m (\u001B[38;5;241m200\u001B[39m \u001B[38;5;241m<\u001B[39m\u001B[38;5;241m=\u001B[39m response\u001B[38;5;241m.\u001B[39mstatus_code \u001B[38;5;241m<\u001B[39m \u001B[38;5;241m300\u001B[39m):\n\u001B[1;32m--> 368\u001B[0m     \u001B[38;5;28;01mraise\u001B[39;00m BinanceAPIException(response, response\u001B[38;5;241m.\u001B[39mstatus_code, response\u001B[38;5;241m.\u001B[39mtext)\n\u001B[0;32m    369\u001B[0m \u001B[38;5;28;01mtry\u001B[39;00m:\n\u001B[0;32m    370\u001B[0m     \u001B[38;5;28;01mreturn\u001B[39;00m response\u001B[38;5;241m.\u001B[39mjson()\n",
      "\u001B[1;31mBinanceAPIException\u001B[0m: APIError(code=-1121): Invalid symbol."
     ]
    }
   ],
   "execution_count": 21
  },
  {
   "metadata": {
    "ExecuteTime": {
     "end_time": "2024-09-04T01:12:33.786665Z",
     "start_time": "2024-09-04T01:12:33.782074Z"
    }
   },
   "cell_type": "code",
   "source": "pd.to_datetime((timestamp), unit='ms')",
   "id": "51a9c6deac374ef7",
   "outputs": [
    {
     "data": {
      "text/plain": [
       "Timestamp('2024-08-07 00:00:00')"
      ]
     },
     "execution_count": 22,
     "metadata": {},
     "output_type": "execute_result"
    }
   ],
   "execution_count": 22
  },
  {
   "metadata": {
    "ExecuteTime": {
     "end_time": "2024-09-04T01:11:21.711245Z",
     "start_time": "2024-09-04T01:11:21.707558Z"
    }
   },
   "cell_type": "code",
   "source": [
    "def get_history(symbol, interval, start, end = None):\n",
    "    bars = client.get_historical_klines(symbol=symbol, interval=interval, start_str=start, end_str=end, limit=1000)\n",
    "    df = pd.DataFrame(bars)\n",
    "    df['Date'] = pd.to_datetime(df.iloc[:,0], unit='ms')\n",
    "    df.columns = [\n",
    "        'Open Time', 'Open', 'High', 'Low', 'Close', 'Volume', 'Close Time', 'Quote Asset Volume', 'Number of Trades', \"Taker Buy Base Asset Volume\", 'Taker Buy Quote Asset Volume', 'Ignore', 'Date'\n",
    "    ]\n",
    "    df.set_index('Date', inplace=True)\n",
    "    for column in df.columns:\n",
    "        df[column] = pd.to_numeric(df[column], errors='coerce')\n",
    "    return df"
   ],
   "id": "8e837721147d0319",
   "outputs": [],
   "execution_count": 17
  },
  {
   "metadata": {
    "ExecuteTime": {
     "end_time": "2024-09-04T01:12:45.831900Z",
     "start_time": "2024-09-04T01:12:45.564500Z"
    }
   },
   "cell_type": "code",
   "source": [
    "df = get_history('BTCUSDT', interval='1h', start=timestamp)\n",
    "df"
   ],
   "id": "1a93c18eb21ec8ba",
   "outputs": [
    {
     "data": {
      "text/plain": [
       "                         Open Time      Open      High      Low     Close  \\\n",
       "Date                                                                        \n",
       "2024-08-07 13:00:00  1723035600000  57268.01  57552.44  21250.0  56825.99   \n",
       "2024-08-07 14:00:00  1723039200000  56826.83  80000.00  21250.0  56119.84   \n",
       "2024-08-07 15:00:00  1723042800000  56132.00  56350.75  21250.0  55908.27   \n",
       "2024-08-07 16:00:00  1723046400000  55915.61  56290.04  21250.0  55886.47   \n",
       "2024-08-07 17:00:00  1723050000000  55877.49  56214.84  21250.0  55628.28   \n",
       "...                            ...       ...       ...      ...       ...   \n",
       "2024-09-03 21:00:00  1725397200000  58215.96  59373.00  40106.0  58112.00   \n",
       "2024-09-03 22:00:00  1725400800000  58115.11  58152.76  57864.0  57864.00   \n",
       "2024-09-03 23:00:00  1725404400000  57864.99  57899.00  40073.0  57506.91   \n",
       "2024-09-04 00:00:00  1725408000000  57495.98  58080.50  40073.0  57290.99   \n",
       "2024-09-04 01:00:00  1725411600000  57290.99  59374.00  40073.0  55911.57   \n",
       "\n",
       "                       Volume     Close Time  Quote Asset Volume  \\\n",
       "Date                                                               \n",
       "2024-08-07 13:00:00  17.78981  1723039199999        1.016193e+06   \n",
       "2024-08-07 14:00:00  18.77845  1723042799999        1.058372e+06   \n",
       "2024-08-07 15:00:00  19.53876  1723046399999        1.094926e+06   \n",
       "2024-08-07 16:00:00  18.96112  1723049999999        1.062444e+06   \n",
       "2024-08-07 17:00:00  17.64953  1723053599999        9.855920e+05   \n",
       "...                       ...            ...                 ...   \n",
       "2024-09-03 21:00:00  16.70378  1725400799999        9.648559e+05   \n",
       "2024-09-03 22:00:00  17.43289  1725404399999        1.011259e+06   \n",
       "2024-09-03 23:00:00  16.88427  1725407999999        9.583567e+05   \n",
       "2024-09-04 00:00:00  21.05289  1725411599999        1.214250e+06   \n",
       "2024-09-04 01:00:00   2.13116  1725415199999        1.220295e+05   \n",
       "\n",
       "                     Number of Trades  Taker Buy Base Asset Volume  \\\n",
       "Date                                                                 \n",
       "2024-08-07 13:00:00              5437                     10.83106   \n",
       "2024-08-07 14:00:00              4648                     11.95959   \n",
       "2024-08-07 15:00:00              5071                     12.95947   \n",
       "2024-08-07 16:00:00              4865                     11.35758   \n",
       "2024-08-07 17:00:00              4538                     12.57976   \n",
       "...                               ...                          ...   \n",
       "2024-09-03 21:00:00              3142                     10.24549   \n",
       "2024-09-03 22:00:00              3456                      8.82154   \n",
       "2024-09-03 23:00:00              3530                      7.15259   \n",
       "2024-09-04 00:00:00              4435                     14.38732   \n",
       "2024-09-04 01:00:00               493                      0.70375   \n",
       "\n",
       "                     Taker Buy Quote Asset Volume  Ignore  \n",
       "Date                                                       \n",
       "2024-08-07 13:00:00                 618778.235832       0  \n",
       "2024-08-07 14:00:00                 674118.946053       0  \n",
       "2024-08-07 15:00:00                 726204.567835       0  \n",
       "2024-08-07 16:00:00                 636582.658072       0  \n",
       "2024-08-07 17:00:00                 702470.655079       0  \n",
       "...                                           ...     ...  \n",
       "2024-09-03 21:00:00                 595918.460213       0  \n",
       "2024-09-03 22:00:00                 511923.420349       0  \n",
       "2024-09-03 23:00:00                 412749.169103       0  \n",
       "2024-09-04 00:00:00                 831265.997784       0  \n",
       "2024-09-04 01:00:00                  41075.012250       0  \n",
       "\n",
       "[661 rows x 12 columns]"
      ],
      "text/html": [
       "<div>\n",
       "<style scoped>\n",
       "    .dataframe tbody tr th:only-of-type {\n",
       "        vertical-align: middle;\n",
       "    }\n",
       "\n",
       "    .dataframe tbody tr th {\n",
       "        vertical-align: top;\n",
       "    }\n",
       "\n",
       "    .dataframe thead th {\n",
       "        text-align: right;\n",
       "    }\n",
       "</style>\n",
       "<table border=\"1\" class=\"dataframe\">\n",
       "  <thead>\n",
       "    <tr style=\"text-align: right;\">\n",
       "      <th></th>\n",
       "      <th>Open Time</th>\n",
       "      <th>Open</th>\n",
       "      <th>High</th>\n",
       "      <th>Low</th>\n",
       "      <th>Close</th>\n",
       "      <th>Volume</th>\n",
       "      <th>Close Time</th>\n",
       "      <th>Quote Asset Volume</th>\n",
       "      <th>Number of Trades</th>\n",
       "      <th>Taker Buy Base Asset Volume</th>\n",
       "      <th>Taker Buy Quote Asset Volume</th>\n",
       "      <th>Ignore</th>\n",
       "    </tr>\n",
       "    <tr>\n",
       "      <th>Date</th>\n",
       "      <th></th>\n",
       "      <th></th>\n",
       "      <th></th>\n",
       "      <th></th>\n",
       "      <th></th>\n",
       "      <th></th>\n",
       "      <th></th>\n",
       "      <th></th>\n",
       "      <th></th>\n",
       "      <th></th>\n",
       "      <th></th>\n",
       "      <th></th>\n",
       "    </tr>\n",
       "  </thead>\n",
       "  <tbody>\n",
       "    <tr>\n",
       "      <th>2024-08-07 13:00:00</th>\n",
       "      <td>1723035600000</td>\n",
       "      <td>57268.01</td>\n",
       "      <td>57552.44</td>\n",
       "      <td>21250.0</td>\n",
       "      <td>56825.99</td>\n",
       "      <td>17.78981</td>\n",
       "      <td>1723039199999</td>\n",
       "      <td>1.016193e+06</td>\n",
       "      <td>5437</td>\n",
       "      <td>10.83106</td>\n",
       "      <td>618778.235832</td>\n",
       "      <td>0</td>\n",
       "    </tr>\n",
       "    <tr>\n",
       "      <th>2024-08-07 14:00:00</th>\n",
       "      <td>1723039200000</td>\n",
       "      <td>56826.83</td>\n",
       "      <td>80000.00</td>\n",
       "      <td>21250.0</td>\n",
       "      <td>56119.84</td>\n",
       "      <td>18.77845</td>\n",
       "      <td>1723042799999</td>\n",
       "      <td>1.058372e+06</td>\n",
       "      <td>4648</td>\n",
       "      <td>11.95959</td>\n",
       "      <td>674118.946053</td>\n",
       "      <td>0</td>\n",
       "    </tr>\n",
       "    <tr>\n",
       "      <th>2024-08-07 15:00:00</th>\n",
       "      <td>1723042800000</td>\n",
       "      <td>56132.00</td>\n",
       "      <td>56350.75</td>\n",
       "      <td>21250.0</td>\n",
       "      <td>55908.27</td>\n",
       "      <td>19.53876</td>\n",
       "      <td>1723046399999</td>\n",
       "      <td>1.094926e+06</td>\n",
       "      <td>5071</td>\n",
       "      <td>12.95947</td>\n",
       "      <td>726204.567835</td>\n",
       "      <td>0</td>\n",
       "    </tr>\n",
       "    <tr>\n",
       "      <th>2024-08-07 16:00:00</th>\n",
       "      <td>1723046400000</td>\n",
       "      <td>55915.61</td>\n",
       "      <td>56290.04</td>\n",
       "      <td>21250.0</td>\n",
       "      <td>55886.47</td>\n",
       "      <td>18.96112</td>\n",
       "      <td>1723049999999</td>\n",
       "      <td>1.062444e+06</td>\n",
       "      <td>4865</td>\n",
       "      <td>11.35758</td>\n",
       "      <td>636582.658072</td>\n",
       "      <td>0</td>\n",
       "    </tr>\n",
       "    <tr>\n",
       "      <th>2024-08-07 17:00:00</th>\n",
       "      <td>1723050000000</td>\n",
       "      <td>55877.49</td>\n",
       "      <td>56214.84</td>\n",
       "      <td>21250.0</td>\n",
       "      <td>55628.28</td>\n",
       "      <td>17.64953</td>\n",
       "      <td>1723053599999</td>\n",
       "      <td>9.855920e+05</td>\n",
       "      <td>4538</td>\n",
       "      <td>12.57976</td>\n",
       "      <td>702470.655079</td>\n",
       "      <td>0</td>\n",
       "    </tr>\n",
       "    <tr>\n",
       "      <th>...</th>\n",
       "      <td>...</td>\n",
       "      <td>...</td>\n",
       "      <td>...</td>\n",
       "      <td>...</td>\n",
       "      <td>...</td>\n",
       "      <td>...</td>\n",
       "      <td>...</td>\n",
       "      <td>...</td>\n",
       "      <td>...</td>\n",
       "      <td>...</td>\n",
       "      <td>...</td>\n",
       "      <td>...</td>\n",
       "    </tr>\n",
       "    <tr>\n",
       "      <th>2024-09-03 21:00:00</th>\n",
       "      <td>1725397200000</td>\n",
       "      <td>58215.96</td>\n",
       "      <td>59373.00</td>\n",
       "      <td>40106.0</td>\n",
       "      <td>58112.00</td>\n",
       "      <td>16.70378</td>\n",
       "      <td>1725400799999</td>\n",
       "      <td>9.648559e+05</td>\n",
       "      <td>3142</td>\n",
       "      <td>10.24549</td>\n",
       "      <td>595918.460213</td>\n",
       "      <td>0</td>\n",
       "    </tr>\n",
       "    <tr>\n",
       "      <th>2024-09-03 22:00:00</th>\n",
       "      <td>1725400800000</td>\n",
       "      <td>58115.11</td>\n",
       "      <td>58152.76</td>\n",
       "      <td>57864.0</td>\n",
       "      <td>57864.00</td>\n",
       "      <td>17.43289</td>\n",
       "      <td>1725404399999</td>\n",
       "      <td>1.011259e+06</td>\n",
       "      <td>3456</td>\n",
       "      <td>8.82154</td>\n",
       "      <td>511923.420349</td>\n",
       "      <td>0</td>\n",
       "    </tr>\n",
       "    <tr>\n",
       "      <th>2024-09-03 23:00:00</th>\n",
       "      <td>1725404400000</td>\n",
       "      <td>57864.99</td>\n",
       "      <td>57899.00</td>\n",
       "      <td>40073.0</td>\n",
       "      <td>57506.91</td>\n",
       "      <td>16.88427</td>\n",
       "      <td>1725407999999</td>\n",
       "      <td>9.583567e+05</td>\n",
       "      <td>3530</td>\n",
       "      <td>7.15259</td>\n",
       "      <td>412749.169103</td>\n",
       "      <td>0</td>\n",
       "    </tr>\n",
       "    <tr>\n",
       "      <th>2024-09-04 00:00:00</th>\n",
       "      <td>1725408000000</td>\n",
       "      <td>57495.98</td>\n",
       "      <td>58080.50</td>\n",
       "      <td>40073.0</td>\n",
       "      <td>57290.99</td>\n",
       "      <td>21.05289</td>\n",
       "      <td>1725411599999</td>\n",
       "      <td>1.214250e+06</td>\n",
       "      <td>4435</td>\n",
       "      <td>14.38732</td>\n",
       "      <td>831265.997784</td>\n",
       "      <td>0</td>\n",
       "    </tr>\n",
       "    <tr>\n",
       "      <th>2024-09-04 01:00:00</th>\n",
       "      <td>1725411600000</td>\n",
       "      <td>57290.99</td>\n",
       "      <td>59374.00</td>\n",
       "      <td>40073.0</td>\n",
       "      <td>55911.57</td>\n",
       "      <td>2.13116</td>\n",
       "      <td>1725415199999</td>\n",
       "      <td>1.220295e+05</td>\n",
       "      <td>493</td>\n",
       "      <td>0.70375</td>\n",
       "      <td>41075.012250</td>\n",
       "      <td>0</td>\n",
       "    </tr>\n",
       "  </tbody>\n",
       "</table>\n",
       "<p>661 rows × 12 columns</p>\n",
       "</div>"
      ]
     },
     "execution_count": 23,
     "metadata": {},
     "output_type": "execute_result"
    }
   ],
   "execution_count": 23
  },
  {
   "metadata": {
    "ExecuteTime": {
     "end_time": "2024-09-04T01:16:28.110553Z",
     "start_time": "2024-09-04T01:16:28.105319Z"
    }
   },
   "cell_type": "code",
   "source": [
    "from binance import AsyncClient, BinanceSocketManager\n",
    "\n",
    "data = pd.DataFrame(columns = [\"Open\", \"High\", \"Low\", \"Close\", \"Volume\", \"Complete\"])\n",
    "\n",
    "def stream_data(msg):\n",
    "    global data\n",
    "    event_time = pd.to_datetime(msg['E'], unit='ms')\n",
    "    start_time = pd.to_datetime(msg['k']['t'], unit='ms')\n",
    "    first = float(msg['k']['o'])\n",
    "    high = float(msg['k']['h'])\n",
    "    low = float(msg['k']['l'])\n",
    "    close = float(msg['k']['c'])\n",
    "    volume = float(msg['k']['v'])\n",
    "    complete = float(msg['k']['x'])\n",
    "    \n",
    "    print(f\"Time: {event_time} | Price {close}\")\n",
    "    \n",
    "    data.loc[start_time] = [first, high, low, close, volume, complete]\n",
    "\n",
    "\n",
    "async def main():\n",
    "    client = await AsyncClient.create()\n",
    "    bm = BinanceSocketManager(client)\n",
    "    ts = bm.kline_socket(symbol='BTCUSDT', interval='1m')\n",
    "    \n",
    "    async with ts as tscm:\n",
    "        for _ in range(50):\n",
    "            res = await tscm.recv()\n",
    "            stream_data(res)\n",
    "    await client.close_connection()\n"
   ],
   "id": "154302063ae96238",
   "outputs": [],
   "execution_count": 26
  },
  {
   "metadata": {
    "ExecuteTime": {
     "end_time": "2024-09-04T01:18:14.387759Z",
     "start_time": "2024-09-04T01:16:30.660721Z"
    }
   },
   "cell_type": "code",
   "source": "await main()",
   "id": "e131cbade681eb3f",
   "outputs": [
    {
     "name": "stdout",
     "output_type": "stream",
     "text": [
      "Time: 2024-09-04 01:16:34.118000 | Price 56147.98\n",
      "Time: 2024-09-04 01:16:36.156000 | Price 56149.99\n",
      "Time: 2024-09-04 01:16:38.195000 | Price 56169.43\n",
      "Time: 2024-09-04 01:16:40.575000 | Price 56160.69\n",
      "Time: 2024-09-04 01:16:42.604000 | Price 56177.52\n",
      "Time: 2024-09-04 01:16:44.671000 | Price 56174.71\n",
      "Time: 2024-09-04 01:16:46.739000 | Price 56172.16\n",
      "Time: 2024-09-04 01:16:48.814000 | Price 56190.0\n",
      "Time: 2024-09-04 01:16:50.827000 | Price 56192.68\n",
      "Time: 2024-09-04 01:16:52.983000 | Price 56195.76\n",
      "Time: 2024-09-04 01:16:55.051000 | Price 56186.02\n",
      "Time: 2024-09-04 01:16:57.067000 | Price 56191.54\n",
      "Time: 2024-09-04 01:16:59.130000 | Price 56205.86\n",
      "Time: 2024-09-04 01:17:00.006000 | Price 56211.1\n",
      "Time: 2024-09-04 01:17:02.067000 | Price 56227.52\n",
      "Time: 2024-09-04 01:17:04.075000 | Price 56261.09\n",
      "Time: 2024-09-04 01:17:06.211000 | Price 56258.0\n",
      "Time: 2024-09-04 01:17:08.287000 | Price 56235.99\n",
      "Time: 2024-09-04 01:17:10.305000 | Price 56221.12\n",
      "Time: 2024-09-04 01:17:12.422000 | Price 56191.11\n",
      "Time: 2024-09-04 01:17:14.432000 | Price 56198.54\n",
      "Time: 2024-09-04 01:17:16.475000 | Price 56214.02\n",
      "Time: 2024-09-04 01:17:18.611000 | Price 56216.15\n",
      "Time: 2024-09-04 01:17:20.732000 | Price 56201.11\n",
      "Time: 2024-09-04 01:17:22.788000 | Price 56194.0\n",
      "Time: 2024-09-04 01:17:24.889000 | Price 56174.98\n",
      "Time: 2024-09-04 01:17:26.897000 | Price 56181.37\n",
      "Time: 2024-09-04 01:17:28.984000 | Price 56174.0\n",
      "Time: 2024-09-04 01:17:31.052000 | Price 56177.5\n",
      "Time: 2024-09-04 01:17:33.073000 | Price 56174.0\n",
      "Time: 2024-09-04 01:17:35.163000 | Price 56171.59\n",
      "Time: 2024-09-04 01:17:37.597000 | Price 56177.51\n",
      "Time: 2024-09-04 01:17:39.693000 | Price 56162.63\n",
      "Time: 2024-09-04 01:17:41.791000 | Price 56153.63\n",
      "Time: 2024-09-04 01:17:43.924000 | Price 56151.11\n",
      "Time: 2024-09-04 01:17:45.978000 | Price 56150.0\n",
      "Time: 2024-09-04 01:17:48.210000 | Price 56113.19\n",
      "Time: 2024-09-04 01:17:50.254000 | Price 56118.0\n",
      "Time: 2024-09-04 01:17:52.277000 | Price 56146.0\n",
      "Time: 2024-09-04 01:17:54.292000 | Price 56141.39\n",
      "Time: 2024-09-04 01:17:56.349000 | Price 56137.98\n",
      "Time: 2024-09-04 01:17:58.669000 | Price 56130.0\n",
      "Time: 2024-09-04 01:18:00.009000 | Price 56129.99\n",
      "Time: 2024-09-04 01:18:02.326000 | Price 56126.85\n",
      "Time: 2024-09-04 01:18:04.351000 | Price 56126.0\n",
      "Time: 2024-09-04 01:18:06.657000 | Price 56129.94\n",
      "Time: 2024-09-04 01:18:08.792000 | Price 56169.49\n",
      "Time: 2024-09-04 01:18:11.061000 | Price 56169.48\n",
      "Time: 2024-09-04 01:18:13.285000 | Price 56169.49\n",
      "Time: 2024-09-04 01:18:15.384000 | Price 56164.0\n"
     ]
    }
   ],
   "execution_count": 27
  },
  {
   "metadata": {
    "ExecuteTime": {
     "end_time": "2024-09-04T01:19:47.731711Z",
     "start_time": "2024-09-04T01:19:47.479748Z"
    }
   },
   "cell_type": "code",
   "source": [
    "account = client.get_account()\n",
    "df = pd.DataFrame(account['balances'])\n",
    "df"
   ],
   "id": "b7e930b9dcc5edfb",
   "outputs": [
    {
     "data": {
      "text/plain": [
       "      asset            free      locked\n",
       "0       ETH      1.00000000  0.00000000\n",
       "1       BTC      1.00000000  0.00000000\n",
       "2       LTC      8.00000000  0.00000000\n",
       "3       BNB      1.00000000  0.00000000\n",
       "4      USDT  10000.00000000  0.00000000\n",
       "..      ...             ...         ...\n",
       "388   LISTA   1487.00000000  0.00000000\n",
       "389     ZRO    153.00000000  0.00000000\n",
       "390       G  12602.00000000  0.00000000\n",
       "391  BANANA     14.00000000  0.00000000\n",
       "392  RENDER    104.00000000  0.00000000\n",
       "\n",
       "[393 rows x 3 columns]"
      ],
      "text/html": [
       "<div>\n",
       "<style scoped>\n",
       "    .dataframe tbody tr th:only-of-type {\n",
       "        vertical-align: middle;\n",
       "    }\n",
       "\n",
       "    .dataframe tbody tr th {\n",
       "        vertical-align: top;\n",
       "    }\n",
       "\n",
       "    .dataframe thead th {\n",
       "        text-align: right;\n",
       "    }\n",
       "</style>\n",
       "<table border=\"1\" class=\"dataframe\">\n",
       "  <thead>\n",
       "    <tr style=\"text-align: right;\">\n",
       "      <th></th>\n",
       "      <th>asset</th>\n",
       "      <th>free</th>\n",
       "      <th>locked</th>\n",
       "    </tr>\n",
       "  </thead>\n",
       "  <tbody>\n",
       "    <tr>\n",
       "      <th>0</th>\n",
       "      <td>ETH</td>\n",
       "      <td>1.00000000</td>\n",
       "      <td>0.00000000</td>\n",
       "    </tr>\n",
       "    <tr>\n",
       "      <th>1</th>\n",
       "      <td>BTC</td>\n",
       "      <td>1.00000000</td>\n",
       "      <td>0.00000000</td>\n",
       "    </tr>\n",
       "    <tr>\n",
       "      <th>2</th>\n",
       "      <td>LTC</td>\n",
       "      <td>8.00000000</td>\n",
       "      <td>0.00000000</td>\n",
       "    </tr>\n",
       "    <tr>\n",
       "      <th>3</th>\n",
       "      <td>BNB</td>\n",
       "      <td>1.00000000</td>\n",
       "      <td>0.00000000</td>\n",
       "    </tr>\n",
       "    <tr>\n",
       "      <th>4</th>\n",
       "      <td>USDT</td>\n",
       "      <td>10000.00000000</td>\n",
       "      <td>0.00000000</td>\n",
       "    </tr>\n",
       "    <tr>\n",
       "      <th>...</th>\n",
       "      <td>...</td>\n",
       "      <td>...</td>\n",
       "      <td>...</td>\n",
       "    </tr>\n",
       "    <tr>\n",
       "      <th>388</th>\n",
       "      <td>LISTA</td>\n",
       "      <td>1487.00000000</td>\n",
       "      <td>0.00000000</td>\n",
       "    </tr>\n",
       "    <tr>\n",
       "      <th>389</th>\n",
       "      <td>ZRO</td>\n",
       "      <td>153.00000000</td>\n",
       "      <td>0.00000000</td>\n",
       "    </tr>\n",
       "    <tr>\n",
       "      <th>390</th>\n",
       "      <td>G</td>\n",
       "      <td>12602.00000000</td>\n",
       "      <td>0.00000000</td>\n",
       "    </tr>\n",
       "    <tr>\n",
       "      <th>391</th>\n",
       "      <td>BANANA</td>\n",
       "      <td>14.00000000</td>\n",
       "      <td>0.00000000</td>\n",
       "    </tr>\n",
       "    <tr>\n",
       "      <th>392</th>\n",
       "      <td>RENDER</td>\n",
       "      <td>104.00000000</td>\n",
       "      <td>0.00000000</td>\n",
       "    </tr>\n",
       "  </tbody>\n",
       "</table>\n",
       "<p>393 rows × 3 columns</p>\n",
       "</div>"
      ]
     },
     "execution_count": 28,
     "metadata": {},
     "output_type": "execute_result"
    }
   ],
   "execution_count": 28
  },
  {
   "metadata": {
    "ExecuteTime": {
     "end_time": "2024-09-04T01:20:26.495610Z",
     "start_time": "2024-09-04T01:20:26.368316Z"
    }
   },
   "cell_type": "code",
   "source": [
    "order = client.create_order(symbol = 'BTCUSDT', side = 'BUY', type = 'MARKET', quantity = 0.1)\n",
    "order"
   ],
   "id": "fbd7b66765bb2089",
   "outputs": [
    {
     "data": {
      "text/plain": [
       "{'symbol': 'BTCUSDT',\n",
       " 'orderId': 15425132,\n",
       " 'orderListId': -1,\n",
       " 'clientOrderId': 'Ea1YRkma6Y9bGPmWPZSol3',\n",
       " 'transactTime': 1725412827600,\n",
       " 'price': '0.00000000',\n",
       " 'origQty': '0.10000000',\n",
       " 'executedQty': '0.10000000',\n",
       " 'cummulativeQuoteQty': '5617.99807230',\n",
       " 'status': 'FILLED',\n",
       " 'timeInForce': 'GTC',\n",
       " 'type': 'MARKET',\n",
       " 'side': 'BUY',\n",
       " 'workingTime': 1725412827600,\n",
       " 'fills': [{'price': '56112.34000000',\n",
       "   'qty': '0.00202000',\n",
       "   'commission': '0.00000000',\n",
       "   'commissionAsset': 'BTC',\n",
       "   'tradeId': 3301063},\n",
       "  {'price': '56115.14000000',\n",
       "   'qty': '0.00740000',\n",
       "   'commission': '0.00000000',\n",
       "   'commissionAsset': 'BTC',\n",
       "   'tradeId': 3301064},\n",
       "  {'price': '56115.89000000',\n",
       "   'qty': '0.00312000',\n",
       "   'commission': '0.00000000',\n",
       "   'commissionAsset': 'BTC',\n",
       "   'tradeId': 3301065},\n",
       "  {'price': '56116.00000000',\n",
       "   'qty': '0.00740000',\n",
       "   'commission': '0.00000000',\n",
       "   'commissionAsset': 'BTC',\n",
       "   'tradeId': 3301066},\n",
       "  {'price': '56130.00000000',\n",
       "   'qty': '0.00891000',\n",
       "   'commission': '0.00000000',\n",
       "   'commissionAsset': 'BTC',\n",
       "   'tradeId': 3301067},\n",
       "  {'price': '56130.33000000',\n",
       "   'qty': '0.00624000',\n",
       "   'commission': '0.00000000',\n",
       "   'commissionAsset': 'BTC',\n",
       "   'tradeId': 3301068},\n",
       "  {'price': '56137.35000000',\n",
       "   'qty': '0.00714000',\n",
       "   'commission': '0.00000000',\n",
       "   'commissionAsset': 'BTC',\n",
       "   'tradeId': 3301069},\n",
       "  {'price': '56146.88000000',\n",
       "   'qty': '0.00633000',\n",
       "   'commission': '0.00000000',\n",
       "   'commissionAsset': 'BTC',\n",
       "   'tradeId': 3301070},\n",
       "  {'price': '56161.10000000',\n",
       "   'qty': '0.00481000',\n",
       "   'commission': '0.00000000',\n",
       "   'commissionAsset': 'BTC',\n",
       "   'tradeId': 3301071},\n",
       "  {'price': '56161.11000000',\n",
       "   'qty': '0.00490000',\n",
       "   'commission': '0.00000000',\n",
       "   'commissionAsset': 'BTC',\n",
       "   'tradeId': 3301072},\n",
       "  {'price': '56161.21000000',\n",
       "   'qty': '0.00891000',\n",
       "   'commission': '0.00000000',\n",
       "   'commissionAsset': 'BTC',\n",
       "   'tradeId': 3301073},\n",
       "  {'price': '56163.90000000',\n",
       "   'qty': '0.00820000',\n",
       "   'commission': '0.00000000',\n",
       "   'commissionAsset': 'BTC',\n",
       "   'tradeId': 3301074},\n",
       "  {'price': '56182.00000000',\n",
       "   'qty': '0.00481000',\n",
       "   'commission': '0.00000000',\n",
       "   'commissionAsset': 'BTC',\n",
       "   'tradeId': 3301075},\n",
       "  {'price': '56182.84000000',\n",
       "   'qty': '0.00445000',\n",
       "   'commission': '0.00000000',\n",
       "   'commissionAsset': 'BTC',\n",
       "   'tradeId': 3301076},\n",
       "  {'price': '56183.30000000',\n",
       "   'qty': '0.00748000',\n",
       "   'commission': '0.00000000',\n",
       "   'commissionAsset': 'BTC',\n",
       "   'tradeId': 3301077},\n",
       "  {'price': '56183.38000000',\n",
       "   'qty': '0.00695000',\n",
       "   'commission': '0.00000000',\n",
       "   'commissionAsset': 'BTC',\n",
       "   'tradeId': 3301078},\n",
       "  {'price': '59374.00000000',\n",
       "   'qty': '0.00093000',\n",
       "   'commission': '0.00000000',\n",
       "   'commissionAsset': 'BTC',\n",
       "   'tradeId': 3301079}],\n",
       " 'selfTradePreventionMode': 'EXPIRE_MAKER'}"
      ]
     },
     "execution_count": 29,
     "metadata": {},
     "output_type": "execute_result"
    }
   ],
   "execution_count": 29
  },
  {
   "metadata": {
    "ExecuteTime": {
     "end_time": "2024-09-04T01:20:50.336760Z",
     "start_time": "2024-09-04T01:20:50.327304Z"
    }
   },
   "cell_type": "code",
   "source": [
    "fills = pd.DataFrame(order['fills'])\n",
    "fills"
   ],
   "id": "6363b755b6c4c36c",
   "outputs": [
    {
     "data": {
      "text/plain": [
       "             price         qty  commission commissionAsset  tradeId\n",
       "0   56112.34000000  0.00202000  0.00000000             BTC  3301063\n",
       "1   56115.14000000  0.00740000  0.00000000             BTC  3301064\n",
       "2   56115.89000000  0.00312000  0.00000000             BTC  3301065\n",
       "3   56116.00000000  0.00740000  0.00000000             BTC  3301066\n",
       "4   56130.00000000  0.00891000  0.00000000             BTC  3301067\n",
       "5   56130.33000000  0.00624000  0.00000000             BTC  3301068\n",
       "6   56137.35000000  0.00714000  0.00000000             BTC  3301069\n",
       "7   56146.88000000  0.00633000  0.00000000             BTC  3301070\n",
       "8   56161.10000000  0.00481000  0.00000000             BTC  3301071\n",
       "9   56161.11000000  0.00490000  0.00000000             BTC  3301072\n",
       "10  56161.21000000  0.00891000  0.00000000             BTC  3301073\n",
       "11  56163.90000000  0.00820000  0.00000000             BTC  3301074\n",
       "12  56182.00000000  0.00481000  0.00000000             BTC  3301075\n",
       "13  56182.84000000  0.00445000  0.00000000             BTC  3301076\n",
       "14  56183.30000000  0.00748000  0.00000000             BTC  3301077\n",
       "15  56183.38000000  0.00695000  0.00000000             BTC  3301078\n",
       "16  59374.00000000  0.00093000  0.00000000             BTC  3301079"
      ],
      "text/html": [
       "<div>\n",
       "<style scoped>\n",
       "    .dataframe tbody tr th:only-of-type {\n",
       "        vertical-align: middle;\n",
       "    }\n",
       "\n",
       "    .dataframe tbody tr th {\n",
       "        vertical-align: top;\n",
       "    }\n",
       "\n",
       "    .dataframe thead th {\n",
       "        text-align: right;\n",
       "    }\n",
       "</style>\n",
       "<table border=\"1\" class=\"dataframe\">\n",
       "  <thead>\n",
       "    <tr style=\"text-align: right;\">\n",
       "      <th></th>\n",
       "      <th>price</th>\n",
       "      <th>qty</th>\n",
       "      <th>commission</th>\n",
       "      <th>commissionAsset</th>\n",
       "      <th>tradeId</th>\n",
       "    </tr>\n",
       "  </thead>\n",
       "  <tbody>\n",
       "    <tr>\n",
       "      <th>0</th>\n",
       "      <td>56112.34000000</td>\n",
       "      <td>0.00202000</td>\n",
       "      <td>0.00000000</td>\n",
       "      <td>BTC</td>\n",
       "      <td>3301063</td>\n",
       "    </tr>\n",
       "    <tr>\n",
       "      <th>1</th>\n",
       "      <td>56115.14000000</td>\n",
       "      <td>0.00740000</td>\n",
       "      <td>0.00000000</td>\n",
       "      <td>BTC</td>\n",
       "      <td>3301064</td>\n",
       "    </tr>\n",
       "    <tr>\n",
       "      <th>2</th>\n",
       "      <td>56115.89000000</td>\n",
       "      <td>0.00312000</td>\n",
       "      <td>0.00000000</td>\n",
       "      <td>BTC</td>\n",
       "      <td>3301065</td>\n",
       "    </tr>\n",
       "    <tr>\n",
       "      <th>3</th>\n",
       "      <td>56116.00000000</td>\n",
       "      <td>0.00740000</td>\n",
       "      <td>0.00000000</td>\n",
       "      <td>BTC</td>\n",
       "      <td>3301066</td>\n",
       "    </tr>\n",
       "    <tr>\n",
       "      <th>4</th>\n",
       "      <td>56130.00000000</td>\n",
       "      <td>0.00891000</td>\n",
       "      <td>0.00000000</td>\n",
       "      <td>BTC</td>\n",
       "      <td>3301067</td>\n",
       "    </tr>\n",
       "    <tr>\n",
       "      <th>5</th>\n",
       "      <td>56130.33000000</td>\n",
       "      <td>0.00624000</td>\n",
       "      <td>0.00000000</td>\n",
       "      <td>BTC</td>\n",
       "      <td>3301068</td>\n",
       "    </tr>\n",
       "    <tr>\n",
       "      <th>6</th>\n",
       "      <td>56137.35000000</td>\n",
       "      <td>0.00714000</td>\n",
       "      <td>0.00000000</td>\n",
       "      <td>BTC</td>\n",
       "      <td>3301069</td>\n",
       "    </tr>\n",
       "    <tr>\n",
       "      <th>7</th>\n",
       "      <td>56146.88000000</td>\n",
       "      <td>0.00633000</td>\n",
       "      <td>0.00000000</td>\n",
       "      <td>BTC</td>\n",
       "      <td>3301070</td>\n",
       "    </tr>\n",
       "    <tr>\n",
       "      <th>8</th>\n",
       "      <td>56161.10000000</td>\n",
       "      <td>0.00481000</td>\n",
       "      <td>0.00000000</td>\n",
       "      <td>BTC</td>\n",
       "      <td>3301071</td>\n",
       "    </tr>\n",
       "    <tr>\n",
       "      <th>9</th>\n",
       "      <td>56161.11000000</td>\n",
       "      <td>0.00490000</td>\n",
       "      <td>0.00000000</td>\n",
       "      <td>BTC</td>\n",
       "      <td>3301072</td>\n",
       "    </tr>\n",
       "    <tr>\n",
       "      <th>10</th>\n",
       "      <td>56161.21000000</td>\n",
       "      <td>0.00891000</td>\n",
       "      <td>0.00000000</td>\n",
       "      <td>BTC</td>\n",
       "      <td>3301073</td>\n",
       "    </tr>\n",
       "    <tr>\n",
       "      <th>11</th>\n",
       "      <td>56163.90000000</td>\n",
       "      <td>0.00820000</td>\n",
       "      <td>0.00000000</td>\n",
       "      <td>BTC</td>\n",
       "      <td>3301074</td>\n",
       "    </tr>\n",
       "    <tr>\n",
       "      <th>12</th>\n",
       "      <td>56182.00000000</td>\n",
       "      <td>0.00481000</td>\n",
       "      <td>0.00000000</td>\n",
       "      <td>BTC</td>\n",
       "      <td>3301075</td>\n",
       "    </tr>\n",
       "    <tr>\n",
       "      <th>13</th>\n",
       "      <td>56182.84000000</td>\n",
       "      <td>0.00445000</td>\n",
       "      <td>0.00000000</td>\n",
       "      <td>BTC</td>\n",
       "      <td>3301076</td>\n",
       "    </tr>\n",
       "    <tr>\n",
       "      <th>14</th>\n",
       "      <td>56183.30000000</td>\n",
       "      <td>0.00748000</td>\n",
       "      <td>0.00000000</td>\n",
       "      <td>BTC</td>\n",
       "      <td>3301077</td>\n",
       "    </tr>\n",
       "    <tr>\n",
       "      <th>15</th>\n",
       "      <td>56183.38000000</td>\n",
       "      <td>0.00695000</td>\n",
       "      <td>0.00000000</td>\n",
       "      <td>BTC</td>\n",
       "      <td>3301078</td>\n",
       "    </tr>\n",
       "    <tr>\n",
       "      <th>16</th>\n",
       "      <td>59374.00000000</td>\n",
       "      <td>0.00093000</td>\n",
       "      <td>0.00000000</td>\n",
       "      <td>BTC</td>\n",
       "      <td>3301079</td>\n",
       "    </tr>\n",
       "  </tbody>\n",
       "</table>\n",
       "</div>"
      ]
     },
     "execution_count": 31,
     "metadata": {},
     "output_type": "execute_result"
    }
   ],
   "execution_count": 31
  },
  {
   "metadata": {
    "ExecuteTime": {
     "end_time": "2024-09-04T01:22:19.160061Z",
     "start_time": "2024-09-04T01:22:19.154896Z"
    }
   },
   "cell_type": "code",
   "source": [
    "fills.price = pd.to_numeric(fills.price, errors='coerce')\n",
    "fills.price.mean()"
   ],
   "id": "d31391cdcf5f1e07",
   "outputs": [
    {
     "data": {
      "text/plain": [
       "np.float64(56338.63352941177)"
      ]
     },
     "execution_count": 33,
     "metadata": {},
     "output_type": "execute_result"
    }
   ],
   "execution_count": 33
  },
  {
   "metadata": {
    "ExecuteTime": {
     "end_time": "2024-09-04T01:25:45.341182Z",
     "start_time": "2024-09-04T01:25:45.334174Z"
    }
   },
   "cell_type": "code",
   "source": [
    "num_cols = ['price', 'qty', 'commission']\n",
    "for col in num_cols:\n",
    "    fills[col] = pd.to_numeric(fills[col], errors='coerce')\n",
    "fills.info()"
   ],
   "id": "a7ea06f0fea22917",
   "outputs": [
    {
     "name": "stdout",
     "output_type": "stream",
     "text": [
      "<class 'pandas.core.frame.DataFrame'>\n",
      "RangeIndex: 17 entries, 0 to 16\n",
      "Data columns (total 5 columns):\n",
      " #   Column           Non-Null Count  Dtype  \n",
      "---  ------           --------------  -----  \n",
      " 0   price            17 non-null     float64\n",
      " 1   qty              17 non-null     float64\n",
      " 2   commission       17 non-null     float64\n",
      " 3   commissionAsset  17 non-null     object \n",
      " 4   tradeId          17 non-null     int64  \n",
      "dtypes: float64(3), int64(1), object(1)\n",
      "memory usage: 812.0+ bytes\n"
     ]
    }
   ],
   "execution_count": 36
  },
  {
   "metadata": {
    "ExecuteTime": {
     "end_time": "2024-09-04T01:25:57.618963Z",
     "start_time": "2024-09-04T01:25:57.614335Z"
    }
   },
   "cell_type": "code",
   "source": "fills.qty.sum()",
   "id": "b7635e318ae5cb7a",
   "outputs": [
    {
     "data": {
      "text/plain": [
       "np.float64(0.1)"
      ]
     },
     "execution_count": 37,
     "metadata": {},
     "output_type": "execute_result"
    }
   ],
   "execution_count": 37
  },
  {
   "metadata": {
    "ExecuteTime": {
     "end_time": "2024-09-04T01:26:17.451434Z",
     "start_time": "2024-09-04T01:26:17.446884Z"
    }
   },
   "cell_type": "code",
   "source": "fills.price.mul(fills.qty).sum()",
   "id": "1d7e1fdaf58ce36",
   "outputs": [
    {
     "data": {
      "text/plain": [
       "np.float64(5617.9980723)"
      ]
     },
     "execution_count": 38,
     "metadata": {},
     "output_type": "execute_result"
    }
   ],
   "execution_count": 38
  },
  {
   "metadata": {
    "ExecuteTime": {
     "end_time": "2024-09-04T01:32:00.613940Z",
     "start_time": "2024-09-04T01:32:00.240223Z"
    }
   },
   "cell_type": "code",
   "source": [
    "orderQuote = client.create_order(symbol = 'BTCUSDT', side = 'BUY', type = 'MARKET', quoteOrderQty = 1000)\n",
    "orderQuote"
   ],
   "id": "f4367fe7ab21f95b",
   "outputs": [
    {
     "data": {
      "text/plain": [
       "{'symbol': 'BTCUSDT',\n",
       " 'orderId': 15426774,\n",
       " 'orderListId': -1,\n",
       " 'clientOrderId': 'mfnhUvS5iX0o3SdhnpZsPy',\n",
       " 'transactTime': 1725413521718,\n",
       " 'price': '0.00000000',\n",
       " 'origQty': '0.01776000',\n",
       " 'executedQty': '0.01776000',\n",
       " 'cummulativeQuoteQty': '999.44400000',\n",
       " 'status': 'FILLED',\n",
       " 'timeInForce': 'GTC',\n",
       " 'type': 'MARKET',\n",
       " 'side': 'BUY',\n",
       " 'workingTime': 1725413521718,\n",
       " 'fills': [{'price': '56275.00000000',\n",
       "   'qty': '0.01776000',\n",
       "   'commission': '0.00000000',\n",
       "   'commissionAsset': 'BTC',\n",
       "   'tradeId': 3301852}],\n",
       " 'selfTradePreventionMode': 'EXPIRE_MAKER'}"
      ]
     },
     "execution_count": 40,
     "metadata": {},
     "output_type": "execute_result"
    }
   ],
   "execution_count": 40
  },
  {
   "metadata": {
    "ExecuteTime": {
     "end_time": "2024-09-04T01:33:16.797308Z",
     "start_time": "2024-09-04T01:33:16.793569Z"
    }
   },
   "cell_type": "code",
   "source": [
    "avg_price = float(orderQuote['cummulativeQuoteQty']) / float(orderQuote['origQty'])\n",
    "avg_price"
   ],
   "id": "3e0928166c3df44",
   "outputs": [
    {
     "data": {
      "text/plain": [
       "56274.99999999999"
      ]
     },
     "execution_count": 43,
     "metadata": {},
     "output_type": "execute_result"
    }
   ],
   "execution_count": 43
  },
  {
   "metadata": {
    "ExecuteTime": {
     "end_time": "2024-09-04T02:44:29.088606Z",
     "start_time": "2024-09-04T02:44:28.954787Z"
    }
   },
   "cell_type": "code",
   "source": [
    "account = client.get_account()\n",
    "balances = pd.DataFrame(account['balances'])\n",
    "balances"
   ],
   "id": "2c87009586ed9e29",
   "outputs": [
    {
     "data": {
      "text/plain": [
       "      asset            free      locked\n",
       "0       ETH      1.00000000  0.00000000\n",
       "1       BTC      1.01776000  0.00000000\n",
       "2       LTC      8.00000000  0.00000000\n",
       "3       BNB      1.00000000  0.00000000\n",
       "4      USDT   9040.64997240  0.00000000\n",
       "..      ...             ...         ...\n",
       "388   LISTA   1487.00000000  0.00000000\n",
       "389     ZRO    153.00000000  0.00000000\n",
       "390       G  12602.00000000  0.00000000\n",
       "391  BANANA     14.00000000  0.00000000\n",
       "392  RENDER    104.00000000  0.00000000\n",
       "\n",
       "[393 rows x 3 columns]"
      ],
      "text/html": [
       "<div>\n",
       "<style scoped>\n",
       "    .dataframe tbody tr th:only-of-type {\n",
       "        vertical-align: middle;\n",
       "    }\n",
       "\n",
       "    .dataframe tbody tr th {\n",
       "        vertical-align: top;\n",
       "    }\n",
       "\n",
       "    .dataframe thead th {\n",
       "        text-align: right;\n",
       "    }\n",
       "</style>\n",
       "<table border=\"1\" class=\"dataframe\">\n",
       "  <thead>\n",
       "    <tr style=\"text-align: right;\">\n",
       "      <th></th>\n",
       "      <th>asset</th>\n",
       "      <th>free</th>\n",
       "      <th>locked</th>\n",
       "    </tr>\n",
       "  </thead>\n",
       "  <tbody>\n",
       "    <tr>\n",
       "      <th>0</th>\n",
       "      <td>ETH</td>\n",
       "      <td>1.00000000</td>\n",
       "      <td>0.00000000</td>\n",
       "    </tr>\n",
       "    <tr>\n",
       "      <th>1</th>\n",
       "      <td>BTC</td>\n",
       "      <td>1.01776000</td>\n",
       "      <td>0.00000000</td>\n",
       "    </tr>\n",
       "    <tr>\n",
       "      <th>2</th>\n",
       "      <td>LTC</td>\n",
       "      <td>8.00000000</td>\n",
       "      <td>0.00000000</td>\n",
       "    </tr>\n",
       "    <tr>\n",
       "      <th>3</th>\n",
       "      <td>BNB</td>\n",
       "      <td>1.00000000</td>\n",
       "      <td>0.00000000</td>\n",
       "    </tr>\n",
       "    <tr>\n",
       "      <th>4</th>\n",
       "      <td>USDT</td>\n",
       "      <td>9040.64997240</td>\n",
       "      <td>0.00000000</td>\n",
       "    </tr>\n",
       "    <tr>\n",
       "      <th>...</th>\n",
       "      <td>...</td>\n",
       "      <td>...</td>\n",
       "      <td>...</td>\n",
       "    </tr>\n",
       "    <tr>\n",
       "      <th>388</th>\n",
       "      <td>LISTA</td>\n",
       "      <td>1487.00000000</td>\n",
       "      <td>0.00000000</td>\n",
       "    </tr>\n",
       "    <tr>\n",
       "      <th>389</th>\n",
       "      <td>ZRO</td>\n",
       "      <td>153.00000000</td>\n",
       "      <td>0.00000000</td>\n",
       "    </tr>\n",
       "    <tr>\n",
       "      <th>390</th>\n",
       "      <td>G</td>\n",
       "      <td>12602.00000000</td>\n",
       "      <td>0.00000000</td>\n",
       "    </tr>\n",
       "    <tr>\n",
       "      <th>391</th>\n",
       "      <td>BANANA</td>\n",
       "      <td>14.00000000</td>\n",
       "      <td>0.00000000</td>\n",
       "    </tr>\n",
       "    <tr>\n",
       "      <th>392</th>\n",
       "      <td>RENDER</td>\n",
       "      <td>104.00000000</td>\n",
       "      <td>0.00000000</td>\n",
       "    </tr>\n",
       "  </tbody>\n",
       "</table>\n",
       "<p>393 rows × 3 columns</p>\n",
       "</div>"
      ]
     },
     "execution_count": 76,
     "metadata": {},
     "output_type": "execute_result"
    }
   ],
   "execution_count": 76
  },
  {
   "metadata": {
    "ExecuteTime": {
     "end_time": "2024-09-04T02:44:22.920020Z",
     "start_time": "2024-09-04T02:44:22.642363Z"
    }
   },
   "cell_type": "code",
   "source": [
    "sell_order = client.create_order(symbol = 'BTCUSDT', side = 'SELL', type = 'MARKET', quantity = 0.1)\n",
    "sell_order"
   ],
   "id": "146ac0ed64b15083",
   "outputs": [
    {
     "data": {
      "text/plain": [
       "{'symbol': 'BTCUSDT',\n",
       " 'orderId': 15441571,\n",
       " 'orderListId': -1,\n",
       " 'clientOrderId': 'WUm7no95QbxRdwvfUeArZF',\n",
       " 'transactTime': 1725417864055,\n",
       " 'price': '0.00000000',\n",
       " 'origQty': '0.10000000',\n",
       " 'executedQty': '0.10000000',\n",
       " 'cummulativeQuoteQty': '5672.34911250',\n",
       " 'status': 'FILLED',\n",
       " 'timeInForce': 'GTC',\n",
       " 'type': 'MARKET',\n",
       " 'side': 'SELL',\n",
       " 'workingTime': 1725417864055,\n",
       " 'fills': [{'price': '56728.00000000',\n",
       "   'qty': '0.00468000',\n",
       "   'commission': '0.00000000',\n",
       "   'commissionAsset': 'USDT',\n",
       "   'tradeId': 3306133},\n",
       "  {'price': '56727.77000000',\n",
       "   'qty': '0.00697000',\n",
       "   'commission': '0.00000000',\n",
       "   'commissionAsset': 'USDT',\n",
       "   'tradeId': 3306134},\n",
       "  {'price': '56726.82000000',\n",
       "   'qty': '0.00811000',\n",
       "   'commission': '0.00000000',\n",
       "   'commissionAsset': 'USDT',\n",
       "   'tradeId': 3306135},\n",
       "  {'price': '56726.76000000',\n",
       "   'qty': '0.00459000',\n",
       "   'commission': '0.00000000',\n",
       "   'commissionAsset': 'USDT',\n",
       "   'tradeId': 3306136},\n",
       "  {'price': '56726.70000000',\n",
       "   'qty': '0.00820000',\n",
       "   'commission': '0.00000000',\n",
       "   'commissionAsset': 'USDT',\n",
       "   'tradeId': 3306137},\n",
       "  {'price': '56726.16000000',\n",
       "   'qty': '0.00688000',\n",
       "   'commission': '0.00000000',\n",
       "   'commissionAsset': 'USDT',\n",
       "   'tradeId': 3306138},\n",
       "  {'price': '56725.49000000',\n",
       "   'qty': '0.00476000',\n",
       "   'commission': '0.00000000',\n",
       "   'commissionAsset': 'USDT',\n",
       "   'tradeId': 3306139},\n",
       "  {'price': '56725.24000000',\n",
       "   'qty': '0.00741000',\n",
       "   'commission': '0.00000000',\n",
       "   'commissionAsset': 'USDT',\n",
       "   'tradeId': 3306140},\n",
       "  {'price': '56723.66000000',\n",
       "   'qty': '0.00644000',\n",
       "   'commission': '0.00000000',\n",
       "   'commissionAsset': 'USDT',\n",
       "   'tradeId': 3306141},\n",
       "  {'price': '56722.46000000',\n",
       "   'qty': '0.00767000',\n",
       "   'commission': '0.00000000',\n",
       "   'commissionAsset': 'USDT',\n",
       "   'tradeId': 3306142},\n",
       "  {'price': '56720.00000000',\n",
       "   'qty': '0.00847000',\n",
       "   'commission': '0.00000000',\n",
       "   'commissionAsset': 'USDT',\n",
       "   'tradeId': 3306143},\n",
       "  {'price': '56719.02000000',\n",
       "   'qty': '0.00662000',\n",
       "   'commission': '0.00000000',\n",
       "   'commissionAsset': 'USDT',\n",
       "   'tradeId': 3306144},\n",
       "  {'price': '56719.01000000',\n",
       "   'qty': '0.00785000',\n",
       "   'commission': '0.00000000',\n",
       "   'commissionAsset': 'USDT',\n",
       "   'tradeId': 3306145},\n",
       "  {'price': '56718.49000000',\n",
       "   'qty': '0.00688000',\n",
       "   'commission': '0.00000000',\n",
       "   'commissionAsset': 'USDT',\n",
       "   'tradeId': 3306146},\n",
       "  {'price': '56718.01000000',\n",
       "   'qty': '0.00447000',\n",
       "   'commission': '0.00000000',\n",
       "   'commissionAsset': 'USDT',\n",
       "   'tradeId': 3306147}],\n",
       " 'selfTradePreventionMode': 'EXPIRE_MAKER'}"
      ]
     },
     "execution_count": 75,
     "metadata": {},
     "output_type": "execute_result"
    }
   ],
   "execution_count": 75
  },
  {
   "metadata": {
    "ExecuteTime": {
     "end_time": "2024-09-04T01:46:21.766189Z",
     "start_time": "2024-09-04T01:46:21.611779Z"
    }
   },
   "cell_type": "code",
   "source": [
    "account = client.get_account()\n",
    "balances = pd.DataFrame(account['balances'])\n",
    "balances"
   ],
   "id": "4660bae745ae2f7d",
   "outputs": [
    {
     "data": {
      "text/plain": [
       "      asset            free      locked\n",
       "0       ETH      1.00000000  0.00000000\n",
       "1       BTC      1.01776000  0.00000000\n",
       "2       LTC      8.00000000  0.00000000\n",
       "3       BNB      1.00000000  0.00000000\n",
       "4      USDT   9053.30085990  0.00000000\n",
       "..      ...             ...         ...\n",
       "388   LISTA   1487.00000000  0.00000000\n",
       "389     ZRO    153.00000000  0.00000000\n",
       "390       G  12602.00000000  0.00000000\n",
       "391  BANANA     14.00000000  0.00000000\n",
       "392  RENDER    104.00000000  0.00000000\n",
       "\n",
       "[393 rows x 3 columns]"
      ],
      "text/html": [
       "<div>\n",
       "<style scoped>\n",
       "    .dataframe tbody tr th:only-of-type {\n",
       "        vertical-align: middle;\n",
       "    }\n",
       "\n",
       "    .dataframe tbody tr th {\n",
       "        vertical-align: top;\n",
       "    }\n",
       "\n",
       "    .dataframe thead th {\n",
       "        text-align: right;\n",
       "    }\n",
       "</style>\n",
       "<table border=\"1\" class=\"dataframe\">\n",
       "  <thead>\n",
       "    <tr style=\"text-align: right;\">\n",
       "      <th></th>\n",
       "      <th>asset</th>\n",
       "      <th>free</th>\n",
       "      <th>locked</th>\n",
       "    </tr>\n",
       "  </thead>\n",
       "  <tbody>\n",
       "    <tr>\n",
       "      <th>0</th>\n",
       "      <td>ETH</td>\n",
       "      <td>1.00000000</td>\n",
       "      <td>0.00000000</td>\n",
       "    </tr>\n",
       "    <tr>\n",
       "      <th>1</th>\n",
       "      <td>BTC</td>\n",
       "      <td>1.01776000</td>\n",
       "      <td>0.00000000</td>\n",
       "    </tr>\n",
       "    <tr>\n",
       "      <th>2</th>\n",
       "      <td>LTC</td>\n",
       "      <td>8.00000000</td>\n",
       "      <td>0.00000000</td>\n",
       "    </tr>\n",
       "    <tr>\n",
       "      <th>3</th>\n",
       "      <td>BNB</td>\n",
       "      <td>1.00000000</td>\n",
       "      <td>0.00000000</td>\n",
       "    </tr>\n",
       "    <tr>\n",
       "      <th>4</th>\n",
       "      <td>USDT</td>\n",
       "      <td>9053.30085990</td>\n",
       "      <td>0.00000000</td>\n",
       "    </tr>\n",
       "    <tr>\n",
       "      <th>...</th>\n",
       "      <td>...</td>\n",
       "      <td>...</td>\n",
       "      <td>...</td>\n",
       "    </tr>\n",
       "    <tr>\n",
       "      <th>388</th>\n",
       "      <td>LISTA</td>\n",
       "      <td>1487.00000000</td>\n",
       "      <td>0.00000000</td>\n",
       "    </tr>\n",
       "    <tr>\n",
       "      <th>389</th>\n",
       "      <td>ZRO</td>\n",
       "      <td>153.00000000</td>\n",
       "      <td>0.00000000</td>\n",
       "    </tr>\n",
       "    <tr>\n",
       "      <th>390</th>\n",
       "      <td>G</td>\n",
       "      <td>12602.00000000</td>\n",
       "      <td>0.00000000</td>\n",
       "    </tr>\n",
       "    <tr>\n",
       "      <th>391</th>\n",
       "      <td>BANANA</td>\n",
       "      <td>14.00000000</td>\n",
       "      <td>0.00000000</td>\n",
       "    </tr>\n",
       "    <tr>\n",
       "      <th>392</th>\n",
       "      <td>RENDER</td>\n",
       "      <td>104.00000000</td>\n",
       "      <td>0.00000000</td>\n",
       "    </tr>\n",
       "  </tbody>\n",
       "</table>\n",
       "<p>393 rows × 3 columns</p>\n",
       "</div>"
      ]
     },
     "execution_count": 46,
     "metadata": {},
     "output_type": "execute_result"
    }
   ],
   "execution_count": 46
  },
  {
   "metadata": {
    "ExecuteTime": {
     "end_time": "2024-09-04T02:04:36.943340Z",
     "start_time": "2024-09-04T02:04:36.698028Z"
    }
   },
   "cell_type": "code",
   "source": "client.get_symbol_ticker(symbol='BTCUSDT')",
   "id": "607bd940dc5b226",
   "outputs": [
    {
     "data": {
      "text/plain": [
       "{'symbol': 'BTCUSDT', 'price': '56885.99000000'}"
      ]
     },
     "execution_count": 62,
     "metadata": {},
     "output_type": "execute_result"
    }
   ],
   "execution_count": 62
  },
  {
   "metadata": {
    "ExecuteTime": {
     "end_time": "2024-09-04T02:01:15.763272Z",
     "start_time": "2024-09-04T02:01:15.631971Z"
    }
   },
   "cell_type": "code",
   "source": "limitOrder = client.create_order(symbol = 'BTCUSDT', side = 'BUY', type = 'LIMIT', quantity = 0.1, timeInForce = \"GTC\", price = 56850)",
   "id": "e5c5bcf9a60c993d",
   "outputs": [],
   "execution_count": 52
  },
  {
   "metadata": {
    "ExecuteTime": {
     "end_time": "2024-09-04T02:01:55.043652Z",
     "start_time": "2024-09-04T02:01:55.039018Z"
    }
   },
   "cell_type": "code",
   "source": "limitOrder",
   "id": "37f0f78ae5ddcd9",
   "outputs": [
    {
     "data": {
      "text/plain": [
       "{'symbol': 'BTCUSDT',\n",
       " 'orderId': 15432247,\n",
       " 'orderListId': -1,\n",
       " 'clientOrderId': '5zqb2L67TijAOWmzx4eOAj',\n",
       " 'transactTime': 1725415276877,\n",
       " 'price': '56850.00000000',\n",
       " 'origQty': '0.10000000',\n",
       " 'executedQty': '0.00000000',\n",
       " 'cummulativeQuoteQty': '0.00000000',\n",
       " 'status': 'NEW',\n",
       " 'timeInForce': 'GTC',\n",
       " 'type': 'LIMIT',\n",
       " 'side': 'BUY',\n",
       " 'workingTime': 1725415276877,\n",
       " 'fills': [],\n",
       " 'selfTradePreventionMode': 'EXPIRE_MAKER'}"
      ]
     },
     "execution_count": 57,
     "metadata": {},
     "output_type": "execute_result"
    }
   ],
   "execution_count": 57
  },
  {
   "metadata": {
    "ExecuteTime": {
     "end_time": "2024-09-04T02:01:47.286630Z",
     "start_time": "2024-09-04T02:01:47.036231Z"
    }
   },
   "cell_type": "code",
   "source": [
    "account = client.get_account()\n",
    "balances = pd.DataFrame(account['balances'])\n",
    "balances"
   ],
   "id": "1fb397f4f772e48e",
   "outputs": [
    {
     "data": {
      "text/plain": [
       "      asset            free      locked\n",
       "0       ETH      1.00000000  0.00000000\n",
       "1       BTC      1.11776000  0.00000000\n",
       "2       LTC      8.00000000  0.00000000\n",
       "3       BNB      1.00000000  0.00000000\n",
       "4      USDT   3368.30085990  0.00000000\n",
       "..      ...             ...         ...\n",
       "388   LISTA   1487.00000000  0.00000000\n",
       "389     ZRO    153.00000000  0.00000000\n",
       "390       G  12602.00000000  0.00000000\n",
       "391  BANANA     14.00000000  0.00000000\n",
       "392  RENDER    104.00000000  0.00000000\n",
       "\n",
       "[393 rows x 3 columns]"
      ],
      "text/html": [
       "<div>\n",
       "<style scoped>\n",
       "    .dataframe tbody tr th:only-of-type {\n",
       "        vertical-align: middle;\n",
       "    }\n",
       "\n",
       "    .dataframe tbody tr th {\n",
       "        vertical-align: top;\n",
       "    }\n",
       "\n",
       "    .dataframe thead th {\n",
       "        text-align: right;\n",
       "    }\n",
       "</style>\n",
       "<table border=\"1\" class=\"dataframe\">\n",
       "  <thead>\n",
       "    <tr style=\"text-align: right;\">\n",
       "      <th></th>\n",
       "      <th>asset</th>\n",
       "      <th>free</th>\n",
       "      <th>locked</th>\n",
       "    </tr>\n",
       "  </thead>\n",
       "  <tbody>\n",
       "    <tr>\n",
       "      <th>0</th>\n",
       "      <td>ETH</td>\n",
       "      <td>1.00000000</td>\n",
       "      <td>0.00000000</td>\n",
       "    </tr>\n",
       "    <tr>\n",
       "      <th>1</th>\n",
       "      <td>BTC</td>\n",
       "      <td>1.11776000</td>\n",
       "      <td>0.00000000</td>\n",
       "    </tr>\n",
       "    <tr>\n",
       "      <th>2</th>\n",
       "      <td>LTC</td>\n",
       "      <td>8.00000000</td>\n",
       "      <td>0.00000000</td>\n",
       "    </tr>\n",
       "    <tr>\n",
       "      <th>3</th>\n",
       "      <td>BNB</td>\n",
       "      <td>1.00000000</td>\n",
       "      <td>0.00000000</td>\n",
       "    </tr>\n",
       "    <tr>\n",
       "      <th>4</th>\n",
       "      <td>USDT</td>\n",
       "      <td>3368.30085990</td>\n",
       "      <td>0.00000000</td>\n",
       "    </tr>\n",
       "    <tr>\n",
       "      <th>...</th>\n",
       "      <td>...</td>\n",
       "      <td>...</td>\n",
       "      <td>...</td>\n",
       "    </tr>\n",
       "    <tr>\n",
       "      <th>388</th>\n",
       "      <td>LISTA</td>\n",
       "      <td>1487.00000000</td>\n",
       "      <td>0.00000000</td>\n",
       "    </tr>\n",
       "    <tr>\n",
       "      <th>389</th>\n",
       "      <td>ZRO</td>\n",
       "      <td>153.00000000</td>\n",
       "      <td>0.00000000</td>\n",
       "    </tr>\n",
       "    <tr>\n",
       "      <th>390</th>\n",
       "      <td>G</td>\n",
       "      <td>12602.00000000</td>\n",
       "      <td>0.00000000</td>\n",
       "    </tr>\n",
       "    <tr>\n",
       "      <th>391</th>\n",
       "      <td>BANANA</td>\n",
       "      <td>14.00000000</td>\n",
       "      <td>0.00000000</td>\n",
       "    </tr>\n",
       "    <tr>\n",
       "      <th>392</th>\n",
       "      <td>RENDER</td>\n",
       "      <td>104.00000000</td>\n",
       "      <td>0.00000000</td>\n",
       "    </tr>\n",
       "  </tbody>\n",
       "</table>\n",
       "<p>393 rows × 3 columns</p>\n",
       "</div>"
      ]
     },
     "execution_count": 56,
     "metadata": {},
     "output_type": "execute_result"
    }
   ],
   "execution_count": 56
  },
  {
   "metadata": {
    "ExecuteTime": {
     "end_time": "2024-09-04T02:03:06.063847Z",
     "start_time": "2024-09-04T02:03:05.929641Z"
    }
   },
   "cell_type": "code",
   "source": "client.get_order(symbol = 'BTCUSDT', orderId = limitOrder['orderId'])",
   "id": "7109aa6877526ab1",
   "outputs": [
    {
     "data": {
      "text/plain": [
       "{'symbol': 'BTCUSDT',\n",
       " 'orderId': 15432247,\n",
       " 'orderListId': -1,\n",
       " 'clientOrderId': '5zqb2L67TijAOWmzx4eOAj',\n",
       " 'price': '56850.00000000',\n",
       " 'origQty': '0.10000000',\n",
       " 'executedQty': '0.10000000',\n",
       " 'cummulativeQuoteQty': '5685.00000000',\n",
       " 'status': 'FILLED',\n",
       " 'timeInForce': 'GTC',\n",
       " 'type': 'LIMIT',\n",
       " 'side': 'BUY',\n",
       " 'stopPrice': '0.00000000',\n",
       " 'icebergQty': '0.00000000',\n",
       " 'time': 1725415276877,\n",
       " 'updateTime': 1725415295280,\n",
       " 'isWorking': True,\n",
       " 'workingTime': 1725415276877,\n",
       " 'origQuoteOrderQty': '0.00000000',\n",
       " 'selfTradePreventionMode': 'EXPIRE_MAKER'}"
      ]
     },
     "execution_count": 60,
     "metadata": {},
     "output_type": "execute_result"
    }
   ],
   "execution_count": 60
  },
  {
   "metadata": {
    "ExecuteTime": {
     "end_time": "2024-09-04T02:04:44.748682Z",
     "start_time": "2024-09-04T02:04:44.530927Z"
    }
   },
   "cell_type": "code",
   "source": "limitSellOrder = client.create_order(symbol = 'BTCUSDT', side = 'SELL', type = 'LIMIT', quantity = 0.1, timeInForce = \"GTC\", price = 56950)",
   "id": "8932446fb9ce5f71",
   "outputs": [],
   "execution_count": 63
  },
  {
   "metadata": {
    "ExecuteTime": {
     "end_time": "2024-09-04T02:04:48.202186Z",
     "start_time": "2024-09-04T02:04:48.197675Z"
    }
   },
   "cell_type": "code",
   "source": "limitSellOrder",
   "id": "219e3a92dc5c591a",
   "outputs": [
    {
     "data": {
      "text/plain": [
       "{'symbol': 'BTCUSDT',\n",
       " 'orderId': 15432957,\n",
       " 'orderListId': -1,\n",
       " 'clientOrderId': 'Wo9W6DVH88OTRgzsMHRSrk',\n",
       " 'transactTime': 1725415485869,\n",
       " 'price': '56950.00000000',\n",
       " 'origQty': '0.10000000',\n",
       " 'executedQty': '0.00000000',\n",
       " 'cummulativeQuoteQty': '0.00000000',\n",
       " 'status': 'NEW',\n",
       " 'timeInForce': 'GTC',\n",
       " 'type': 'LIMIT',\n",
       " 'side': 'SELL',\n",
       " 'workingTime': 1725415485869,\n",
       " 'fills': [],\n",
       " 'selfTradePreventionMode': 'EXPIRE_MAKER'}"
      ]
     },
     "execution_count": 64,
     "metadata": {},
     "output_type": "execute_result"
    }
   ],
   "execution_count": 64
  },
  {
   "metadata": {
    "ExecuteTime": {
     "end_time": "2024-09-04T02:04:57.013140Z",
     "start_time": "2024-09-04T02:04:56.877644Z"
    }
   },
   "cell_type": "code",
   "source": "client.get_order(symbol = 'BTCUSDT', orderId = limitSellOrder['orderId'])",
   "id": "b9520cad10e92c18",
   "outputs": [
    {
     "data": {
      "text/plain": [
       "{'symbol': 'BTCUSDT',\n",
       " 'orderId': 15432957,\n",
       " 'orderListId': -1,\n",
       " 'clientOrderId': 'Wo9W6DVH88OTRgzsMHRSrk',\n",
       " 'price': '56950.00000000',\n",
       " 'origQty': '0.10000000',\n",
       " 'executedQty': '0.00000000',\n",
       " 'cummulativeQuoteQty': '0.00000000',\n",
       " 'status': 'NEW',\n",
       " 'timeInForce': 'GTC',\n",
       " 'type': 'LIMIT',\n",
       " 'side': 'SELL',\n",
       " 'stopPrice': '0.00000000',\n",
       " 'icebergQty': '0.00000000',\n",
       " 'time': 1725415485869,\n",
       " 'updateTime': 1725415485869,\n",
       " 'isWorking': True,\n",
       " 'workingTime': 1725415485869,\n",
       " 'origQuoteOrderQty': '0.00000000',\n",
       " 'selfTradePreventionMode': 'EXPIRE_MAKER'}"
      ]
     },
     "execution_count": 65,
     "metadata": {},
     "output_type": "execute_result"
    }
   ],
   "execution_count": 65
  },
  {
   "metadata": {
    "ExecuteTime": {
     "end_time": "2024-09-04T02:05:29.185476Z",
     "start_time": "2024-09-04T02:05:28.948711Z"
    }
   },
   "cell_type": "code",
   "source": [
    "open_orders = client.get_open_orders(symbol = 'BTCUSDT')\n",
    "open_orders"
   ],
   "id": "e56df953b35d92d5",
   "outputs": [
    {
     "data": {
      "text/plain": [
       "[{'symbol': 'BTCUSDT',\n",
       "  'orderId': 15432957,\n",
       "  'orderListId': -1,\n",
       "  'clientOrderId': 'Wo9W6DVH88OTRgzsMHRSrk',\n",
       "  'price': '56950.00000000',\n",
       "  'origQty': '0.10000000',\n",
       "  'executedQty': '0.00000000',\n",
       "  'cummulativeQuoteQty': '0.00000000',\n",
       "  'status': 'NEW',\n",
       "  'timeInForce': 'GTC',\n",
       "  'type': 'LIMIT',\n",
       "  'side': 'SELL',\n",
       "  'stopPrice': '0.00000000',\n",
       "  'icebergQty': '0.00000000',\n",
       "  'time': 1725415485869,\n",
       "  'updateTime': 1725415485869,\n",
       "  'isWorking': True,\n",
       "  'workingTime': 1725415485869,\n",
       "  'origQuoteOrderQty': '0.00000000',\n",
       "  'selfTradePreventionMode': 'EXPIRE_MAKER'}]"
      ]
     },
     "execution_count": 67,
     "metadata": {},
     "output_type": "execute_result"
    }
   ],
   "execution_count": 67
  },
  {
   "metadata": {
    "ExecuteTime": {
     "end_time": "2024-09-04T02:05:40.671004Z",
     "start_time": "2024-09-04T02:05:40.658113Z"
    }
   },
   "cell_type": "code",
   "source": "pd.DataFrame(open_orders)",
   "id": "171bebddff8a8a70",
   "outputs": [
    {
     "data": {
      "text/plain": [
       "    symbol   orderId  orderListId           clientOrderId           price  \\\n",
       "0  BTCUSDT  15432957           -1  Wo9W6DVH88OTRgzsMHRSrk  56950.00000000   \n",
       "\n",
       "      origQty executedQty cummulativeQuoteQty status timeInForce   type  side  \\\n",
       "0  0.10000000  0.00000000          0.00000000    NEW         GTC  LIMIT  SELL   \n",
       "\n",
       "    stopPrice  icebergQty           time     updateTime  isWorking  \\\n",
       "0  0.00000000  0.00000000  1725415485869  1725415485869       True   \n",
       "\n",
       "     workingTime origQuoteOrderQty selfTradePreventionMode  \n",
       "0  1725415485869        0.00000000            EXPIRE_MAKER  "
      ],
      "text/html": [
       "<div>\n",
       "<style scoped>\n",
       "    .dataframe tbody tr th:only-of-type {\n",
       "        vertical-align: middle;\n",
       "    }\n",
       "\n",
       "    .dataframe tbody tr th {\n",
       "        vertical-align: top;\n",
       "    }\n",
       "\n",
       "    .dataframe thead th {\n",
       "        text-align: right;\n",
       "    }\n",
       "</style>\n",
       "<table border=\"1\" class=\"dataframe\">\n",
       "  <thead>\n",
       "    <tr style=\"text-align: right;\">\n",
       "      <th></th>\n",
       "      <th>symbol</th>\n",
       "      <th>orderId</th>\n",
       "      <th>orderListId</th>\n",
       "      <th>clientOrderId</th>\n",
       "      <th>price</th>\n",
       "      <th>origQty</th>\n",
       "      <th>executedQty</th>\n",
       "      <th>cummulativeQuoteQty</th>\n",
       "      <th>status</th>\n",
       "      <th>timeInForce</th>\n",
       "      <th>type</th>\n",
       "      <th>side</th>\n",
       "      <th>stopPrice</th>\n",
       "      <th>icebergQty</th>\n",
       "      <th>time</th>\n",
       "      <th>updateTime</th>\n",
       "      <th>isWorking</th>\n",
       "      <th>workingTime</th>\n",
       "      <th>origQuoteOrderQty</th>\n",
       "      <th>selfTradePreventionMode</th>\n",
       "    </tr>\n",
       "  </thead>\n",
       "  <tbody>\n",
       "    <tr>\n",
       "      <th>0</th>\n",
       "      <td>BTCUSDT</td>\n",
       "      <td>15432957</td>\n",
       "      <td>-1</td>\n",
       "      <td>Wo9W6DVH88OTRgzsMHRSrk</td>\n",
       "      <td>56950.00000000</td>\n",
       "      <td>0.10000000</td>\n",
       "      <td>0.00000000</td>\n",
       "      <td>0.00000000</td>\n",
       "      <td>NEW</td>\n",
       "      <td>GTC</td>\n",
       "      <td>LIMIT</td>\n",
       "      <td>SELL</td>\n",
       "      <td>0.00000000</td>\n",
       "      <td>0.00000000</td>\n",
       "      <td>1725415485869</td>\n",
       "      <td>1725415485869</td>\n",
       "      <td>True</td>\n",
       "      <td>1725415485869</td>\n",
       "      <td>0.00000000</td>\n",
       "      <td>EXPIRE_MAKER</td>\n",
       "    </tr>\n",
       "  </tbody>\n",
       "</table>\n",
       "</div>"
      ]
     },
     "execution_count": 68,
     "metadata": {},
     "output_type": "execute_result"
    }
   ],
   "execution_count": 68
  },
  {
   "metadata": {
    "ExecuteTime": {
     "end_time": "2024-09-04T02:06:16.019044Z",
     "start_time": "2024-09-04T02:06:15.891049Z"
    }
   },
   "cell_type": "code",
   "source": "result = client.cancel_order(symbol = 'BTCUSDT', orderId = open_orders[0]['orderId'])",
   "id": "1c753c39d6bfcd04",
   "outputs": [],
   "execution_count": 69
  },
  {
   "metadata": {
    "ExecuteTime": {
     "end_time": "2024-09-04T02:06:19.812285Z",
     "start_time": "2024-09-04T02:06:19.808020Z"
    }
   },
   "cell_type": "code",
   "source": "result",
   "id": "1dc0c04e779e0738",
   "outputs": [
    {
     "data": {
      "text/plain": [
       "{'symbol': 'BTCUSDT',\n",
       " 'origClientOrderId': 'Wo9W6DVH88OTRgzsMHRSrk',\n",
       " 'orderId': 15432957,\n",
       " 'orderListId': -1,\n",
       " 'clientOrderId': 'WcVV2m8h7ROef9CeKyP5k5',\n",
       " 'transactTime': 1725415577137,\n",
       " 'price': '56950.00000000',\n",
       " 'origQty': '0.10000000',\n",
       " 'executedQty': '0.00000000',\n",
       " 'cummulativeQuoteQty': '0.00000000',\n",
       " 'status': 'CANCELED',\n",
       " 'timeInForce': 'GTC',\n",
       " 'type': 'LIMIT',\n",
       " 'side': 'SELL',\n",
       " 'selfTradePreventionMode': 'EXPIRE_MAKER'}"
      ]
     },
     "execution_count": 70,
     "metadata": {},
     "output_type": "execute_result"
    }
   ],
   "execution_count": 70
  },
  {
   "metadata": {
    "ExecuteTime": {
     "end_time": "2024-09-04T02:06:31.908273Z",
     "start_time": "2024-09-04T02:06:31.778177Z"
    }
   },
   "cell_type": "code",
   "source": [
    "open_orders = client.get_open_orders(symbol = 'BTCUSDT')\n",
    "open_orders"
   ],
   "id": "d6c0151ad032bb47",
   "outputs": [
    {
     "data": {
      "text/plain": [
       "[]"
      ]
     },
     "execution_count": 71,
     "metadata": {},
     "output_type": "execute_result"
    }
   ],
   "execution_count": 71
  },
  {
   "metadata": {
    "ExecuteTime": {
     "end_time": "2024-09-04T02:33:59.490501Z",
     "start_time": "2024-09-04T02:33:59.363358Z"
    }
   },
   "cell_type": "code",
   "source": [
    "all_orders = client.get_all_orders(symbol='BTCUSDT')\n",
    "all_orders = pd.DataFrame(all_orders)\n",
    "all_orders"
   ],
   "id": "ed65da76a97f0bda",
   "outputs": [
    {
     "data": {
      "text/plain": [
       "    symbol   orderId  orderListId           clientOrderId           price  \\\n",
       "0  BTCUSDT  15425132           -1  Ea1YRkma6Y9bGPmWPZSol3      0.00000000   \n",
       "1  BTCUSDT  15426774           -1  mfnhUvS5iX0o3SdhnpZsPy      0.00000000   \n",
       "2  BTCUSDT  15429125           -1  79IeQDULzHWHejwCvmHMtb      0.00000000   \n",
       "3  BTCUSDT  15432247           -1  5zqb2L67TijAOWmzx4eOAj  56850.00000000   \n",
       "4  BTCUSDT  15432957           -1  Wo9W6DVH88OTRgzsMHRSrk  56950.00000000   \n",
       "\n",
       "      origQty executedQty cummulativeQuoteQty    status timeInForce    type  \\\n",
       "0  0.10000000  0.10000000       5617.99807230    FILLED         GTC  MARKET   \n",
       "1  0.01776000  0.01776000        999.44400000    FILLED         GTC  MARKET   \n",
       "2  0.10000000  0.10000000       5670.74293220    FILLED         GTC  MARKET   \n",
       "3  0.10000000  0.10000000       5685.00000000    FILLED         GTC   LIMIT   \n",
       "4  0.10000000  0.00000000          0.00000000  CANCELED         GTC   LIMIT   \n",
       "\n",
       "   side   stopPrice  icebergQty           time     updateTime  isWorking  \\\n",
       "0   BUY  0.00000000  0.00000000  1725412827600  1725412827600       True   \n",
       "1   BUY  0.00000000  0.00000000  1725413521718  1725413521718       True   \n",
       "2  SELL  0.00000000  0.00000000  1725414375343  1725414375343       True   \n",
       "3   BUY  0.00000000  0.00000000  1725415276877  1725415295280       True   \n",
       "4  SELL  0.00000000  0.00000000  1725415485869  1725415577137       True   \n",
       "\n",
       "     workingTime origQuoteOrderQty selfTradePreventionMode  \n",
       "0  1725412827600        0.00000000            EXPIRE_MAKER  \n",
       "1  1725413521718     1000.00000000            EXPIRE_MAKER  \n",
       "2  1725414375343        0.00000000            EXPIRE_MAKER  \n",
       "3  1725415276877        0.00000000            EXPIRE_MAKER  \n",
       "4  1725415485869        0.00000000            EXPIRE_MAKER  "
      ],
      "text/html": [
       "<div>\n",
       "<style scoped>\n",
       "    .dataframe tbody tr th:only-of-type {\n",
       "        vertical-align: middle;\n",
       "    }\n",
       "\n",
       "    .dataframe tbody tr th {\n",
       "        vertical-align: top;\n",
       "    }\n",
       "\n",
       "    .dataframe thead th {\n",
       "        text-align: right;\n",
       "    }\n",
       "</style>\n",
       "<table border=\"1\" class=\"dataframe\">\n",
       "  <thead>\n",
       "    <tr style=\"text-align: right;\">\n",
       "      <th></th>\n",
       "      <th>symbol</th>\n",
       "      <th>orderId</th>\n",
       "      <th>orderListId</th>\n",
       "      <th>clientOrderId</th>\n",
       "      <th>price</th>\n",
       "      <th>origQty</th>\n",
       "      <th>executedQty</th>\n",
       "      <th>cummulativeQuoteQty</th>\n",
       "      <th>status</th>\n",
       "      <th>timeInForce</th>\n",
       "      <th>type</th>\n",
       "      <th>side</th>\n",
       "      <th>stopPrice</th>\n",
       "      <th>icebergQty</th>\n",
       "      <th>time</th>\n",
       "      <th>updateTime</th>\n",
       "      <th>isWorking</th>\n",
       "      <th>workingTime</th>\n",
       "      <th>origQuoteOrderQty</th>\n",
       "      <th>selfTradePreventionMode</th>\n",
       "    </tr>\n",
       "  </thead>\n",
       "  <tbody>\n",
       "    <tr>\n",
       "      <th>0</th>\n",
       "      <td>BTCUSDT</td>\n",
       "      <td>15425132</td>\n",
       "      <td>-1</td>\n",
       "      <td>Ea1YRkma6Y9bGPmWPZSol3</td>\n",
       "      <td>0.00000000</td>\n",
       "      <td>0.10000000</td>\n",
       "      <td>0.10000000</td>\n",
       "      <td>5617.99807230</td>\n",
       "      <td>FILLED</td>\n",
       "      <td>GTC</td>\n",
       "      <td>MARKET</td>\n",
       "      <td>BUY</td>\n",
       "      <td>0.00000000</td>\n",
       "      <td>0.00000000</td>\n",
       "      <td>1725412827600</td>\n",
       "      <td>1725412827600</td>\n",
       "      <td>True</td>\n",
       "      <td>1725412827600</td>\n",
       "      <td>0.00000000</td>\n",
       "      <td>EXPIRE_MAKER</td>\n",
       "    </tr>\n",
       "    <tr>\n",
       "      <th>1</th>\n",
       "      <td>BTCUSDT</td>\n",
       "      <td>15426774</td>\n",
       "      <td>-1</td>\n",
       "      <td>mfnhUvS5iX0o3SdhnpZsPy</td>\n",
       "      <td>0.00000000</td>\n",
       "      <td>0.01776000</td>\n",
       "      <td>0.01776000</td>\n",
       "      <td>999.44400000</td>\n",
       "      <td>FILLED</td>\n",
       "      <td>GTC</td>\n",
       "      <td>MARKET</td>\n",
       "      <td>BUY</td>\n",
       "      <td>0.00000000</td>\n",
       "      <td>0.00000000</td>\n",
       "      <td>1725413521718</td>\n",
       "      <td>1725413521718</td>\n",
       "      <td>True</td>\n",
       "      <td>1725413521718</td>\n",
       "      <td>1000.00000000</td>\n",
       "      <td>EXPIRE_MAKER</td>\n",
       "    </tr>\n",
       "    <tr>\n",
       "      <th>2</th>\n",
       "      <td>BTCUSDT</td>\n",
       "      <td>15429125</td>\n",
       "      <td>-1</td>\n",
       "      <td>79IeQDULzHWHejwCvmHMtb</td>\n",
       "      <td>0.00000000</td>\n",
       "      <td>0.10000000</td>\n",
       "      <td>0.10000000</td>\n",
       "      <td>5670.74293220</td>\n",
       "      <td>FILLED</td>\n",
       "      <td>GTC</td>\n",
       "      <td>MARKET</td>\n",
       "      <td>SELL</td>\n",
       "      <td>0.00000000</td>\n",
       "      <td>0.00000000</td>\n",
       "      <td>1725414375343</td>\n",
       "      <td>1725414375343</td>\n",
       "      <td>True</td>\n",
       "      <td>1725414375343</td>\n",
       "      <td>0.00000000</td>\n",
       "      <td>EXPIRE_MAKER</td>\n",
       "    </tr>\n",
       "    <tr>\n",
       "      <th>3</th>\n",
       "      <td>BTCUSDT</td>\n",
       "      <td>15432247</td>\n",
       "      <td>-1</td>\n",
       "      <td>5zqb2L67TijAOWmzx4eOAj</td>\n",
       "      <td>56850.00000000</td>\n",
       "      <td>0.10000000</td>\n",
       "      <td>0.10000000</td>\n",
       "      <td>5685.00000000</td>\n",
       "      <td>FILLED</td>\n",
       "      <td>GTC</td>\n",
       "      <td>LIMIT</td>\n",
       "      <td>BUY</td>\n",
       "      <td>0.00000000</td>\n",
       "      <td>0.00000000</td>\n",
       "      <td>1725415276877</td>\n",
       "      <td>1725415295280</td>\n",
       "      <td>True</td>\n",
       "      <td>1725415276877</td>\n",
       "      <td>0.00000000</td>\n",
       "      <td>EXPIRE_MAKER</td>\n",
       "    </tr>\n",
       "    <tr>\n",
       "      <th>4</th>\n",
       "      <td>BTCUSDT</td>\n",
       "      <td>15432957</td>\n",
       "      <td>-1</td>\n",
       "      <td>Wo9W6DVH88OTRgzsMHRSrk</td>\n",
       "      <td>56950.00000000</td>\n",
       "      <td>0.10000000</td>\n",
       "      <td>0.00000000</td>\n",
       "      <td>0.00000000</td>\n",
       "      <td>CANCELED</td>\n",
       "      <td>GTC</td>\n",
       "      <td>LIMIT</td>\n",
       "      <td>SELL</td>\n",
       "      <td>0.00000000</td>\n",
       "      <td>0.00000000</td>\n",
       "      <td>1725415485869</td>\n",
       "      <td>1725415577137</td>\n",
       "      <td>True</td>\n",
       "      <td>1725415485869</td>\n",
       "      <td>0.00000000</td>\n",
       "      <td>EXPIRE_MAKER</td>\n",
       "    </tr>\n",
       "  </tbody>\n",
       "</table>\n",
       "</div>"
      ]
     },
     "execution_count": 74,
     "metadata": {},
     "output_type": "execute_result"
    }
   ],
   "execution_count": 74
  },
  {
   "metadata": {
    "ExecuteTime": {
     "end_time": "2024-09-04T02:45:56.890005Z",
     "start_time": "2024-09-04T02:45:56.885998Z"
    }
   },
   "cell_type": "code",
   "source": [
    "import asyncio\n",
    "from binance import AsyncClient, BinanceSocketManager\n",
    "\n",
    "stop_streaming = False\n",
    "\n",
    "def simple_bot(msg):\n",
    "    time = pd.to_datetime(msg['E'], unit = 'ms')\n",
    "    price = float(msg['c'])\n",
    "    print(f\"Time: {time} | Price: {price}\")\n",
    "    if int(price) % 10 == 0:\n",
    "        order = client.create_order(symbol='BTCUSDT', side='BUY', type='MARKET', quantity= 0.01)\n",
    "        print(\"\\n\"+50*\"-\")\n",
    "        print(f\"Buy {order['executedQty']} for {order['cummulativeQuoteQty']} USDT\")\n",
    "        print(50 * \"-\" + \"\\n\")\n",
    "        global stop_streaming\n",
    "        stop_streaming = True"
   ],
   "id": "3bf0cb7099d5a966",
   "outputs": [],
   "execution_count": 77
  },
  {
   "metadata": {
    "ExecuteTime": {
     "end_time": "2024-09-04T02:47:44.773160Z",
     "start_time": "2024-09-04T02:47:44.770132Z"
    }
   },
   "cell_type": "code",
   "source": [
    "async def main():\n",
    "    client = await AsyncClient.create()\n",
    "    bm = BinanceSocketManager(client)\n",
    "    ts = bm.symbol_miniticker_socket(symbol='BTCUSDT')\n",
    "    \n",
    "    async with ts as tscm:\n",
    "        while True:\n",
    "            res = await tscm.recv()\n",
    "            simple_bot(res)\n",
    "            \n",
    "            if stop_streaming:\n",
    "                break\n",
    "    await client.close_connection()"
   ],
   "id": "92440dd58f6dc22e",
   "outputs": [],
   "execution_count": 79
  },
  {
   "metadata": {
    "ExecuteTime": {
     "end_time": "2024-09-04T02:48:06.420653Z",
     "start_time": "2024-09-04T02:47:46.880418Z"
    }
   },
   "cell_type": "code",
   "source": "await main()",
   "id": "6e8f44652cb246f0",
   "outputs": [
    {
     "name": "stdout",
     "output_type": "stream",
     "text": [
      "Time: 2024-09-04 02:47:48.813000 | Price: 56758.0\n",
      "Time: 2024-09-04 02:47:49.761000 | Price: 56756.01\n",
      "Time: 2024-09-04 02:47:50.433000 | Price: 56756.0\n",
      "Time: 2024-09-04 02:47:51.656000 | Price: 56756.01\n",
      "Time: 2024-09-04 02:47:52.240000 | Price: 56756.0\n",
      "Time: 2024-09-04 02:47:53.801000 | Price: 56756.01\n",
      "Time: 2024-09-04 02:47:54.869000 | Price: 56753.0\n",
      "Time: 2024-09-04 02:47:56.202000 | Price: 56752.0\n",
      "Time: 2024-09-04 02:47:56.902000 | Price: 56752.01\n",
      "Time: 2024-09-04 02:47:58.166000 | Price: 56752.0\n",
      "Time: 2024-09-04 02:47:58.454000 | Price: 56752.0\n",
      "Time: 2024-09-04 02:48:00.157000 | Price: 56752.0\n",
      "Time: 2024-09-04 02:48:01.075000 | Price: 56752.0\n",
      "Time: 2024-09-04 02:48:02.204000 | Price: 56752.0\n",
      "Time: 2024-09-04 02:48:02.576000 | Price: 56752.01\n",
      "Time: 2024-09-04 02:48:04.205000 | Price: 56752.0\n",
      "Time: 2024-09-04 02:48:05.211000 | Price: 56752.0\n",
      "Time: 2024-09-04 02:48:05.848000 | Price: 56752.01\n",
      "Time: 2024-09-04 02:48:07.164000 | Price: 56750.0\n",
      "\n",
      "--------------------------------------------------\n",
      "Buy 0.01000000 for 567.12078640 USDT\n",
      "--------------------------------------------------\n",
      "\n"
     ]
    }
   ],
   "execution_count": 80
  },
  {
   "metadata": {
    "ExecuteTime": {
     "end_time": "2024-09-04T02:48:14.740226Z",
     "start_time": "2024-09-04T02:48:14.622284Z"
    }
   },
   "cell_type": "code",
   "source": [
    "account = client.get_account()\n",
    "balances = pd.DataFrame(account['balances'])\n",
    "balances"
   ],
   "id": "c8cfc81487a6717f",
   "outputs": [
    {
     "data": {
      "text/plain": [
       "      asset            free      locked\n",
       "0       ETH      1.00000000  0.00000000\n",
       "1       BTC      1.03776000  0.00000000\n",
       "2       LTC      8.00000000  0.00000000\n",
       "3       BNB      1.00000000  0.00000000\n",
       "4      USDT   7906.26908600  0.00000000\n",
       "..      ...             ...         ...\n",
       "388   LISTA   1487.00000000  0.00000000\n",
       "389     ZRO    153.00000000  0.00000000\n",
       "390       G  12602.00000000  0.00000000\n",
       "391  BANANA     14.00000000  0.00000000\n",
       "392  RENDER    104.00000000  0.00000000\n",
       "\n",
       "[393 rows x 3 columns]"
      ],
      "text/html": [
       "<div>\n",
       "<style scoped>\n",
       "    .dataframe tbody tr th:only-of-type {\n",
       "        vertical-align: middle;\n",
       "    }\n",
       "\n",
       "    .dataframe tbody tr th {\n",
       "        vertical-align: top;\n",
       "    }\n",
       "\n",
       "    .dataframe thead th {\n",
       "        text-align: right;\n",
       "    }\n",
       "</style>\n",
       "<table border=\"1\" class=\"dataframe\">\n",
       "  <thead>\n",
       "    <tr style=\"text-align: right;\">\n",
       "      <th></th>\n",
       "      <th>asset</th>\n",
       "      <th>free</th>\n",
       "      <th>locked</th>\n",
       "    </tr>\n",
       "  </thead>\n",
       "  <tbody>\n",
       "    <tr>\n",
       "      <th>0</th>\n",
       "      <td>ETH</td>\n",
       "      <td>1.00000000</td>\n",
       "      <td>0.00000000</td>\n",
       "    </tr>\n",
       "    <tr>\n",
       "      <th>1</th>\n",
       "      <td>BTC</td>\n",
       "      <td>1.03776000</td>\n",
       "      <td>0.00000000</td>\n",
       "    </tr>\n",
       "    <tr>\n",
       "      <th>2</th>\n",
       "      <td>LTC</td>\n",
       "      <td>8.00000000</td>\n",
       "      <td>0.00000000</td>\n",
       "    </tr>\n",
       "    <tr>\n",
       "      <th>3</th>\n",
       "      <td>BNB</td>\n",
       "      <td>1.00000000</td>\n",
       "      <td>0.00000000</td>\n",
       "    </tr>\n",
       "    <tr>\n",
       "      <th>4</th>\n",
       "      <td>USDT</td>\n",
       "      <td>7906.26908600</td>\n",
       "      <td>0.00000000</td>\n",
       "    </tr>\n",
       "    <tr>\n",
       "      <th>...</th>\n",
       "      <td>...</td>\n",
       "      <td>...</td>\n",
       "      <td>...</td>\n",
       "    </tr>\n",
       "    <tr>\n",
       "      <th>388</th>\n",
       "      <td>LISTA</td>\n",
       "      <td>1487.00000000</td>\n",
       "      <td>0.00000000</td>\n",
       "    </tr>\n",
       "    <tr>\n",
       "      <th>389</th>\n",
       "      <td>ZRO</td>\n",
       "      <td>153.00000000</td>\n",
       "      <td>0.00000000</td>\n",
       "    </tr>\n",
       "    <tr>\n",
       "      <th>390</th>\n",
       "      <td>G</td>\n",
       "      <td>12602.00000000</td>\n",
       "      <td>0.00000000</td>\n",
       "    </tr>\n",
       "    <tr>\n",
       "      <th>391</th>\n",
       "      <td>BANANA</td>\n",
       "      <td>14.00000000</td>\n",
       "      <td>0.00000000</td>\n",
       "    </tr>\n",
       "    <tr>\n",
       "      <th>392</th>\n",
       "      <td>RENDER</td>\n",
       "      <td>104.00000000</td>\n",
       "      <td>0.00000000</td>\n",
       "    </tr>\n",
       "  </tbody>\n",
       "</table>\n",
       "<p>393 rows × 3 columns</p>\n",
       "</div>"
      ]
     },
     "execution_count": 81,
     "metadata": {},
     "output_type": "execute_result"
    }
   ],
   "execution_count": 81
  }
 ],
 "metadata": {
  "kernelspec": {
   "display_name": "Python 3",
   "language": "python",
   "name": "python3"
  },
  "language_info": {
   "codemirror_mode": {
    "name": "ipython",
    "version": 2
   },
   "file_extension": ".py",
   "mimetype": "text/x-python",
   "name": "python",
   "nbconvert_exporter": "python",
   "pygments_lexer": "ipython2",
   "version": "2.7.6"
  }
 },
 "nbformat": 4,
 "nbformat_minor": 5
}
